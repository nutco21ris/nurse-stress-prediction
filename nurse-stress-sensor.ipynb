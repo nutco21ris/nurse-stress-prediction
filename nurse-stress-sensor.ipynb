{
 "cells": [
  {
   "cell_type": "code",
   "execution_count": 5,
   "metadata": {},
   "outputs": [],
   "source": [
    "# packages\n",
    "import matplotlib.pyplot as plt\n",
    "import pandas as pd\n",
    "import numpy as np\n",
    "import seaborn as sns\n"
   ]
  },
  {
   "cell_type": "markdown",
   "id": "a904d1ec",
   "metadata": {},
   "source": [
    "## Data Processing"
   ]
  },
  {
   "cell_type": "code",
   "execution_count": 6,
   "id": "72a39db1",
   "metadata": {},
   "outputs": [
    {
     "name": "stderr",
     "output_type": "stream",
     "text": [
      "/var/folders/cg/skgvx5ds71j6114m1yy9bc5r0000gn/T/ipykernel_94204/358519631.py:1: DtypeWarning: Columns (6) have mixed types. Specify dtype option on import or set low_memory=False.\n",
      "  data = pd.read_csv(\"/Users/irisyu/desktop/project/machine-learning/nurse-stress-sensor.csv\")\n"
     ]
    },
    {
     "name": "stdout",
     "output_type": "stream",
     "text": [
      "<class 'pandas.core.frame.DataFrame'>\n",
      "RangeIndex: 11509051 entries, 0 to 11509050\n",
      "Data columns (total 9 columns):\n",
      " #   Column    Dtype  \n",
      "---  ------    -----  \n",
      " 0   X         float64\n",
      " 1   Y         float64\n",
      " 2   Z         float64\n",
      " 3   EDA       float64\n",
      " 4   HR        float64\n",
      " 5   TEMP      float64\n",
      " 6   id        object \n",
      " 7   datetime  object \n",
      " 8   label     float64\n",
      "dtypes: float64(7), object(2)\n",
      "memory usage: 790.3+ MB\n"
     ]
    }
   ],
   "source": [
    "data = pd.read_csv(\"/Users/irisyu/desktop/project/machine-learning/nurse-stress-sensor.csv\")\n",
    "data.info()"
   ]
  },
  {
   "cell_type": "code",
   "execution_count": 7,
   "id": "6c0c856e",
   "metadata": {},
   "outputs": [
    {
     "data": {
      "text/plain": [
       "(11509051, 9)"
      ]
     },
     "execution_count": 7,
     "metadata": {},
     "output_type": "execute_result"
    }
   ],
   "source": [
    "data.shape"
   ]
  },
  {
   "cell_type": "code",
   "execution_count": 8,
   "id": "7e92278b",
   "metadata": {},
   "outputs": [
    {
     "data": {
      "text/html": [
       "<div>\n",
       "<style scoped>\n",
       "    .dataframe tbody tr th:only-of-type {\n",
       "        vertical-align: middle;\n",
       "    }\n",
       "\n",
       "    .dataframe tbody tr th {\n",
       "        vertical-align: top;\n",
       "    }\n",
       "\n",
       "    .dataframe thead th {\n",
       "        text-align: right;\n",
       "    }\n",
       "</style>\n",
       "<table border=\"1\" class=\"dataframe\">\n",
       "  <thead>\n",
       "    <tr style=\"text-align: right;\">\n",
       "      <th></th>\n",
       "      <th>X</th>\n",
       "      <th>Y</th>\n",
       "      <th>Z</th>\n",
       "      <th>EDA</th>\n",
       "      <th>HR</th>\n",
       "      <th>TEMP</th>\n",
       "      <th>id</th>\n",
       "      <th>datetime</th>\n",
       "      <th>label</th>\n",
       "    </tr>\n",
       "  </thead>\n",
       "  <tbody>\n",
       "    <tr>\n",
       "      <th>0</th>\n",
       "      <td>-13.0</td>\n",
       "      <td>-61.0</td>\n",
       "      <td>5.0</td>\n",
       "      <td>6.769995</td>\n",
       "      <td>99.43</td>\n",
       "      <td>31.17</td>\n",
       "      <td>15</td>\n",
       "      <td>2020-07-08 14:03:00.000000000</td>\n",
       "      <td>2.0</td>\n",
       "    </tr>\n",
       "    <tr>\n",
       "      <th>1</th>\n",
       "      <td>-20.0</td>\n",
       "      <td>-69.0</td>\n",
       "      <td>-3.0</td>\n",
       "      <td>6.769995</td>\n",
       "      <td>99.43</td>\n",
       "      <td>31.17</td>\n",
       "      <td>15</td>\n",
       "      <td>2020-07-08 14:03:00.031249920</td>\n",
       "      <td>2.0</td>\n",
       "    </tr>\n",
       "    <tr>\n",
       "      <th>2</th>\n",
       "      <td>-31.0</td>\n",
       "      <td>-78.0</td>\n",
       "      <td>-15.0</td>\n",
       "      <td>6.769995</td>\n",
       "      <td>99.43</td>\n",
       "      <td>31.17</td>\n",
       "      <td>15</td>\n",
       "      <td>2020-07-08 14:03:00.062500096</td>\n",
       "      <td>2.0</td>\n",
       "    </tr>\n",
       "    <tr>\n",
       "      <th>3</th>\n",
       "      <td>-47.0</td>\n",
       "      <td>-65.0</td>\n",
       "      <td>-38.0</td>\n",
       "      <td>6.769995</td>\n",
       "      <td>99.43</td>\n",
       "      <td>31.17</td>\n",
       "      <td>15</td>\n",
       "      <td>2020-07-08 14:03:00.093750016</td>\n",
       "      <td>2.0</td>\n",
       "    </tr>\n",
       "    <tr>\n",
       "      <th>4</th>\n",
       "      <td>-67.0</td>\n",
       "      <td>-57.0</td>\n",
       "      <td>-53.0</td>\n",
       "      <td>6.769995</td>\n",
       "      <td>99.43</td>\n",
       "      <td>31.17</td>\n",
       "      <td>15</td>\n",
       "      <td>2020-07-08 14:03:00.124999936</td>\n",
       "      <td>2.0</td>\n",
       "    </tr>\n",
       "  </tbody>\n",
       "</table>\n",
       "</div>"
      ],
      "text/plain": [
       "      X     Y     Z       EDA     HR   TEMP  id  \\\n",
       "0 -13.0 -61.0   5.0  6.769995  99.43  31.17  15   \n",
       "1 -20.0 -69.0  -3.0  6.769995  99.43  31.17  15   \n",
       "2 -31.0 -78.0 -15.0  6.769995  99.43  31.17  15   \n",
       "3 -47.0 -65.0 -38.0  6.769995  99.43  31.17  15   \n",
       "4 -67.0 -57.0 -53.0  6.769995  99.43  31.17  15   \n",
       "\n",
       "                        datetime  label  \n",
       "0  2020-07-08 14:03:00.000000000    2.0  \n",
       "1  2020-07-08 14:03:00.031249920    2.0  \n",
       "2  2020-07-08 14:03:00.062500096    2.0  \n",
       "3  2020-07-08 14:03:00.093750016    2.0  \n",
       "4  2020-07-08 14:03:00.124999936    2.0  "
      ]
     },
     "execution_count": 8,
     "metadata": {},
     "output_type": "execute_result"
    }
   ],
   "source": [
    "data.head(5)"
   ]
  },
  {
   "cell_type": "markdown",
   "id": "2860a337",
   "metadata": {},
   "source": [
    "Dataset Nine Columns Description\n",
    "\n",
    "X, Y, Z:\n",
    "Description: Numerical values representing orientation data.\n",
    "Unique Entries: Each column has 256 unique values.\n",
    "\n",
    "EDA (Electrodermal Activity):\n",
    "Description: Continuous numerical values measuring electrodermal activity.\n",
    "Unique Entries: Contains 274,452 unique numerical values.\n",
    "\n",
    "HR (Heart Rate):\n",
    "Description: Continuous numerical values representing heart rate measurements.\n",
    "Unique Entries: Comprises 6,268 distinct numerical values.\n",
    "\n",
    "TEMP (Temperature):\n",
    "Description: Continuous numerical values denoting temperature readings.\n",
    "Unique Entries: Contains 599 unique numerical values.\n",
    "\n",
    "id:\n",
    "Description: Categorical data serving as identifiers for specific subjects or entities.\n",
    "Unique Entries: Consists of 18 distinct categorical entries.\n",
    "\n"
   ]
  },
  {
   "cell_type": "code",
   "execution_count": 9,
   "id": "c91e1687",
   "metadata": {},
   "outputs": [
    {
     "data": {
      "text/plain": [
       "X           0\n",
       "Y           0\n",
       "Z           0\n",
       "EDA         0\n",
       "HR          0\n",
       "TEMP        0\n",
       "id          0\n",
       "datetime    0\n",
       "label       0\n",
       "dtype: int64"
      ]
     },
     "execution_count": 9,
     "metadata": {},
     "output_type": "execute_result"
    }
   ],
   "source": [
    "data.isna().sum()"
   ]
  },
  {
   "cell_type": "code",
   "execution_count": 10,
   "id": "8f5375fb",
   "metadata": {},
   "outputs": [
    {
     "name": "stdout",
     "output_type": "stream",
     "text": [
      "             X     Y     Z       EDA      HR   TEMP  id  \\\n",
      "242287   -44.0  21.0 -41.0  9.859818  104.97  31.87  15   \n",
      "242288   -47.0  17.0 -40.0  9.859818  104.97  31.87  15   \n",
      "242289   -47.0  20.0 -41.0  9.859818  104.97  31.87  15   \n",
      "242290   -47.0  20.0 -44.0  9.859818  104.97  31.87  15   \n",
      "242291   -47.0  19.0 -42.0  9.859818  104.97  31.87  15   \n",
      "...        ...   ...   ...       ...     ...    ...  ..   \n",
      "11499557 -70.0  11.0 -39.0  9.875213   92.52  34.23  F5   \n",
      "11499558 -85.0   8.0 -26.0  9.875213   92.52  34.23  F5   \n",
      "11499559 -62.0  12.0  -4.0  9.875213   92.52  34.23  F5   \n",
      "11499560 -55.0  12.0  -2.0  9.875213   92.52  34.23  F5   \n",
      "11499561 -57.0  13.0  -8.0  9.875213   92.52  34.23  F5   \n",
      "\n",
      "                               datetime  label  \n",
      "242287    2020-07-24 13:12:11.249999872    2.0  \n",
      "242288    2020-07-24 13:12:11.281250048    2.0  \n",
      "242289    2020-07-24 13:12:11.312499968    2.0  \n",
      "242290    2020-07-24 13:12:11.343749888    2.0  \n",
      "242291    2020-07-24 13:12:11.375000064    2.0  \n",
      "...                                 ...    ...  \n",
      "11499557  2020-07-23 17:24:03.343749888    2.0  \n",
      "11499558  2020-07-23 17:24:03.375000064    2.0  \n",
      "11499559  2020-07-23 17:24:03.406249984    2.0  \n",
      "11499560  2020-07-23 17:24:03.437499904    2.0  \n",
      "11499561  2020-07-23 17:24:03.468750080    2.0  \n",
      "\n",
      "[1198102 rows x 9 columns]\n"
     ]
    }
   ],
   "source": [
    "from scipy.stats import zscore\n",
    "from sklearn.ensemble import IsolationForest\n",
    "\n",
    "Q1 = data['EDA'].quantile(0.25)\n",
    "Q3 = data['EDA'].quantile(0.75)\n",
    "\n",
    "IQR = Q3 - Q1\n",
    "lower_bound = Q1 - 1.5 * IQR\n",
    "upper_bound = Q3 + 1.5 * IQR\n",
    "\n",
    "EDAoutliers_iqr = data[(data['EDA'] < lower_bound) | (data['EDA'] > upper_bound)]\n",
    "print(EDAoutliers_iqr)\n",
    "\n",
    "\n",
    "eda_median = data['EDA'].median()\n",
    "\n",
    "data.loc[(data['EDA'] < lower_bound) | (data['EDA'] > upper_bound), 'EDA'] = eda_median"
   ]
  },
  {
   "cell_type": "code",
   "execution_count": 11,
   "id": "0c714d92",
   "metadata": {},
   "outputs": [
    {
     "name": "stdout",
     "output_type": "stream",
     "text": [
      "             X     Y     Z       EDA     HR   TEMP  id  \\\n",
      "240007   -59.0   3.0  -6.0  8.859779  94.45  31.91  15   \n",
      "240008   -61.0   2.0 -11.0  8.859779  94.45  31.91  15   \n",
      "240009   -60.0   1.0 -14.0  8.859779  94.45  31.91  15   \n",
      "240010   -60.0   1.0 -17.0  8.859779  94.45  31.91  15   \n",
      "240011   -56.0  -1.0 -26.0  8.859779  94.45  31.91  15   \n",
      "...        ...   ...   ...       ...    ...    ...  ..   \n",
      "11500989 -27.0  46.0 -22.0  8.725327  91.77  34.27  F5   \n",
      "11500990 -18.0  47.0 -32.0  8.725327  91.77  34.27  F5   \n",
      "11500991 -15.0  48.0 -34.0  8.725327  91.77  34.27  F5   \n",
      "11500992 -15.0  47.0 -36.0  8.725327  91.77  34.27  F5   \n",
      "11500993 -23.0  48.0 -36.0  8.725327  91.77  34.27  F5   \n",
      "\n",
      "                               datetime  label   Z_Score  \n",
      "240007    2020-07-24 13:11:00.000000000    2.0  3.080557  \n",
      "240008    2020-07-24 13:11:00.031249920    2.0  3.080557  \n",
      "240009    2020-07-24 13:11:00.062500096    2.0  3.080557  \n",
      "240010    2020-07-24 13:11:00.093750016    2.0  3.080557  \n",
      "240011    2020-07-24 13:11:00.124999936    2.0  3.080557  \n",
      "...                                 ...    ...       ...  \n",
      "11500989  2020-07-23 17:24:48.093750016    2.0  3.021469  \n",
      "11500990  2020-07-23 17:24:48.124999936    2.0  3.021469  \n",
      "11500991  2020-07-23 17:24:48.156250112    2.0  3.021469  \n",
      "11500992  2020-07-23 17:24:48.187500032    2.0  3.021469  \n",
      "11500993  2020-07-23 17:24:48.218749952    2.0  3.021469  \n",
      "\n",
      "[278693 rows x 10 columns]\n"
     ]
    }
   ],
   "source": [
    "data['Z_Score'] = zscore(data['EDA'])\n",
    "\n",
    "EDAoutliers_zscore = data[data['Z_Score'].abs() > 3]\n",
    "print(EDAoutliers_zscore)\n",
    "\n",
    "data.loc[data['Z_Score'].abs() > 3, 'EDA'] = eda_median\n",
    "\n",
    "\n",
    "data.drop(columns=['Z_Score'], inplace=True)\n"
   ]
  },
  {
   "cell_type": "code",
   "execution_count": 12,
   "id": "c5d0e6ee",
   "metadata": {},
   "outputs": [],
   "source": [
    "data.drop_duplicates(inplace=True)"
   ]
  },
  {
   "cell_type": "code",
   "execution_count": 13,
   "id": "7a7bfccf",
   "metadata": {},
   "outputs": [],
   "source": [
    "data['datetime'] = pd.to_datetime(data['datetime'])\n",
    "data.drop([\"id\"], axis=1, inplace=True)"
   ]
  },
  {
   "cell_type": "code",
   "execution_count": 14,
   "id": "06b0d751",
   "metadata": {},
   "outputs": [],
   "source": [
    "data['year']=data['datetime'].dt.year\n",
    "data['month']=data['datetime'].dt.month\n",
    "data['day']=data['datetime'].dt.day\n",
    "data['hour']=data['datetime'].dt.hour\n",
    "data['minute']=data['datetime'].dt.minute\n",
    "data['second']=data['datetime'].dt.second"
   ]
  },
  {
   "cell_type": "code",
   "execution_count": 15,
   "id": "1b8bb656",
   "metadata": {},
   "outputs": [
    {
     "data": {
      "text/plain": [
       "0"
      ]
     },
     "execution_count": 15,
     "metadata": {},
     "output_type": "execute_result"
    }
   ],
   "source": [
    "data.duplicated().sum()"
   ]
  },
  {
   "cell_type": "markdown",
   "id": "8b6f85ab",
   "metadata": {},
   "source": [
    "## Exploratory Data Analysis"
   ]
  },
  {
   "cell_type": "code",
   "execution_count": 16,
   "id": "8a4ad1f0",
   "metadata": {},
   "outputs": [
    {
     "data": {
      "text/html": [
       "<div>\n",
       "<style scoped>\n",
       "    .dataframe tbody tr th:only-of-type {\n",
       "        vertical-align: middle;\n",
       "    }\n",
       "\n",
       "    .dataframe tbody tr th {\n",
       "        vertical-align: top;\n",
       "    }\n",
       "\n",
       "    .dataframe thead th {\n",
       "        text-align: right;\n",
       "    }\n",
       "</style>\n",
       "<table border=\"1\" class=\"dataframe\">\n",
       "  <thead>\n",
       "    <tr style=\"text-align: right;\">\n",
       "      <th></th>\n",
       "      <th>X</th>\n",
       "      <th>Y</th>\n",
       "      <th>Z</th>\n",
       "      <th>EDA</th>\n",
       "      <th>HR</th>\n",
       "      <th>TEMP</th>\n",
       "      <th>datetime</th>\n",
       "      <th>label</th>\n",
       "      <th>year</th>\n",
       "      <th>month</th>\n",
       "      <th>day</th>\n",
       "      <th>hour</th>\n",
       "      <th>minute</th>\n",
       "      <th>second</th>\n",
       "    </tr>\n",
       "  </thead>\n",
       "  <tbody>\n",
       "    <tr>\n",
       "      <th>count</th>\n",
       "      <td>11403445.00</td>\n",
       "      <td>11403445.00</td>\n",
       "      <td>11403445.00</td>\n",
       "      <td>11403445.00</td>\n",
       "      <td>11403445.00</td>\n",
       "      <td>11403445.00</td>\n",
       "      <td>11403445</td>\n",
       "      <td>11403445.00</td>\n",
       "      <td>11403445.0</td>\n",
       "      <td>11403445.00</td>\n",
       "      <td>11403445.00</td>\n",
       "      <td>11403445.00</td>\n",
       "      <td>11403445.00</td>\n",
       "      <td>11403445.00</td>\n",
       "    </tr>\n",
       "    <tr>\n",
       "      <th>mean</th>\n",
       "      <td>-28.29</td>\n",
       "      <td>-1.10</td>\n",
       "      <td>23.94</td>\n",
       "      <td>1.64</td>\n",
       "      <td>85.76</td>\n",
       "      <td>32.25</td>\n",
       "      <td>2020-08-01 05:45:33.503475200</td>\n",
       "      <td>1.55</td>\n",
       "      <td>2020.0</td>\n",
       "      <td>7.52</td>\n",
       "      <td>15.43</td>\n",
       "      <td>15.08</td>\n",
       "      <td>29.34</td>\n",
       "      <td>29.50</td>\n",
       "    </tr>\n",
       "    <tr>\n",
       "      <th>min</th>\n",
       "      <td>-128.00</td>\n",
       "      <td>-128.00</td>\n",
       "      <td>-128.00</td>\n",
       "      <td>0.00</td>\n",
       "      <td>51.00</td>\n",
       "      <td>24.09</td>\n",
       "      <td>2020-04-14 22:31:00</td>\n",
       "      <td>0.00</td>\n",
       "      <td>2020.0</td>\n",
       "      <td>4.00</td>\n",
       "      <td>1.00</td>\n",
       "      <td>0.00</td>\n",
       "      <td>0.00</td>\n",
       "      <td>0.00</td>\n",
       "    </tr>\n",
       "    <tr>\n",
       "      <th>25%</th>\n",
       "      <td>-52.00</td>\n",
       "      <td>-19.00</td>\n",
       "      <td>4.00</td>\n",
       "      <td>0.22</td>\n",
       "      <td>76.68</td>\n",
       "      <td>30.21</td>\n",
       "      <td>2020-06-25 20:40:51.875000064</td>\n",
       "      <td>1.00</td>\n",
       "      <td>2020.0</td>\n",
       "      <td>6.00</td>\n",
       "      <td>6.00</td>\n",
       "      <td>14.00</td>\n",
       "      <td>14.00</td>\n",
       "      <td>15.00</td>\n",
       "    </tr>\n",
       "    <tr>\n",
       "      <th>50%</th>\n",
       "      <td>-33.00</td>\n",
       "      <td>1.00</td>\n",
       "      <td>26.00</td>\n",
       "      <td>1.14</td>\n",
       "      <td>83.90</td>\n",
       "      <td>32.59</td>\n",
       "      <td>2020-07-06 16:24:06.812499968</td>\n",
       "      <td>2.00</td>\n",
       "      <td>2020.0</td>\n",
       "      <td>7.00</td>\n",
       "      <td>16.00</td>\n",
       "      <td>16.00</td>\n",
       "      <td>29.00</td>\n",
       "      <td>30.00</td>\n",
       "    </tr>\n",
       "    <tr>\n",
       "      <th>75%</th>\n",
       "      <td>-14.00</td>\n",
       "      <td>17.00</td>\n",
       "      <td>49.00</td>\n",
       "      <td>2.34</td>\n",
       "      <td>93.13</td>\n",
       "      <td>34.27</td>\n",
       "      <td>2020-08-06 20:53:12</td>\n",
       "      <td>2.00</td>\n",
       "      <td>2020.0</td>\n",
       "      <td>8.00</td>\n",
       "      <td>23.00</td>\n",
       "      <td>18.00</td>\n",
       "      <td>44.00</td>\n",
       "      <td>45.00</td>\n",
       "    </tr>\n",
       "    <tr>\n",
       "      <th>max</th>\n",
       "      <td>127.00</td>\n",
       "      <td>127.00</td>\n",
       "      <td>127.00</td>\n",
       "      <td>8.68</td>\n",
       "      <td>180.23</td>\n",
       "      <td>36.59</td>\n",
       "      <td>2020-12-13 08:01:00</td>\n",
       "      <td>2.00</td>\n",
       "      <td>2020.0</td>\n",
       "      <td>12.00</td>\n",
       "      <td>31.00</td>\n",
       "      <td>23.00</td>\n",
       "      <td>59.00</td>\n",
       "      <td>59.00</td>\n",
       "    </tr>\n",
       "    <tr>\n",
       "      <th>std</th>\n",
       "      <td>31.41</td>\n",
       "      <td>33.29</td>\n",
       "      <td>29.87</td>\n",
       "      <td>1.95</td>\n",
       "      <td>14.23</td>\n",
       "      <td>2.26</td>\n",
       "      <td>NaN</td>\n",
       "      <td>0.79</td>\n",
       "      <td>0.0</td>\n",
       "      <td>2.37</td>\n",
       "      <td>9.30</td>\n",
       "      <td>4.61</td>\n",
       "      <td>17.60</td>\n",
       "      <td>17.32</td>\n",
       "    </tr>\n",
       "  </tbody>\n",
       "</table>\n",
       "</div>"
      ],
      "text/plain": [
       "                 X            Y            Z          EDA           HR  \\\n",
       "count  11403445.00  11403445.00  11403445.00  11403445.00  11403445.00   \n",
       "mean        -28.29        -1.10        23.94         1.64        85.76   \n",
       "min        -128.00      -128.00      -128.00         0.00        51.00   \n",
       "25%         -52.00       -19.00         4.00         0.22        76.68   \n",
       "50%         -33.00         1.00        26.00         1.14        83.90   \n",
       "75%         -14.00        17.00        49.00         2.34        93.13   \n",
       "max         127.00       127.00       127.00         8.68       180.23   \n",
       "std          31.41        33.29        29.87         1.95        14.23   \n",
       "\n",
       "              TEMP                       datetime        label        year  \\\n",
       "count  11403445.00                       11403445  11403445.00  11403445.0   \n",
       "mean         32.25  2020-08-01 05:45:33.503475200         1.55      2020.0   \n",
       "min          24.09            2020-04-14 22:31:00         0.00      2020.0   \n",
       "25%          30.21  2020-06-25 20:40:51.875000064         1.00      2020.0   \n",
       "50%          32.59  2020-07-06 16:24:06.812499968         2.00      2020.0   \n",
       "75%          34.27            2020-08-06 20:53:12         2.00      2020.0   \n",
       "max          36.59            2020-12-13 08:01:00         2.00      2020.0   \n",
       "std           2.26                            NaN         0.79         0.0   \n",
       "\n",
       "             month          day         hour       minute       second  \n",
       "count  11403445.00  11403445.00  11403445.00  11403445.00  11403445.00  \n",
       "mean          7.52        15.43        15.08        29.34        29.50  \n",
       "min           4.00         1.00         0.00         0.00         0.00  \n",
       "25%           6.00         6.00        14.00        14.00        15.00  \n",
       "50%           7.00        16.00        16.00        29.00        30.00  \n",
       "75%           8.00        23.00        18.00        44.00        45.00  \n",
       "max          12.00        31.00        23.00        59.00        59.00  \n",
       "std           2.37         9.30         4.61        17.60        17.32  "
      ]
     },
     "execution_count": 16,
     "metadata": {},
     "output_type": "execute_result"
    }
   ],
   "source": [
    "data.describe().round(2)"
   ]
  },
  {
   "cell_type": "code",
   "execution_count": 17,
   "id": "1accf05a",
   "metadata": {},
   "outputs": [
    {
     "name": "stderr",
     "output_type": "stream",
     "text": [
      "/opt/anaconda3/lib/python3.11/site-packages/seaborn/_oldcore.py:1119: FutureWarning: use_inf_as_na option is deprecated and will be removed in a future version. Convert inf values to NaN before operating instead.\n",
      "  with pd.option_context('mode.use_inf_as_na', True):\n"
     ]
    },
    {
     "data": {
      "image/png": "[encoded data removed]",
      "text/plain": [
       "<Figure size 640x480 with 1 Axes>"
      ]
     },
     "metadata": {},
     "output_type": "display_data"
    },
    {
     "name": "stderr",
     "output_type": "stream",
     "text": [
      "/opt/anaconda3/lib/python3.11/site-packages/seaborn/_oldcore.py:1119: FutureWarning: use_inf_as_na option is deprecated and will be removed in a future version. Convert inf values to NaN before operating instead.\n",
      "  with pd.option_context('mode.use_inf_as_na', True):\n"
     ]
    },
    {
     "data": {
      "image/png": "[encoded data removed]",
      "text/plain": [
       "<Figure size 640x480 with 1 Axes>"
      ]
     },
     "metadata": {},
     "output_type": "display_data"
    },
    {
     "name": "stderr",
     "output_type": "stream",
     "text": [
      "/opt/anaconda3/lib/python3.11/site-packages/seaborn/_oldcore.py:1119: FutureWarning: use_inf_as_na option is deprecated and will be removed in a future version. Convert inf values to NaN before operating instead.\n",
      "  with pd.option_context('mode.use_inf_as_na', True):\n"
     ]
    },
    {
     "data": {
      "image/png": "[encoded data removed]",
      "text/plain": [
       "<Figure size 640x480 with 1 Axes>"
      ]
     },
     "metadata": {},
     "output_type": "display_data"
    },
    {
     "name": "stderr",
     "output_type": "stream",
     "text": [
      "/opt/anaconda3/lib/python3.11/site-packages/seaborn/_oldcore.py:1119: FutureWarning: use_inf_as_na option is deprecated and will be removed in a future version. Convert inf values to NaN before operating instead.\n",
      "  with pd.option_context('mode.use_inf_as_na', True):\n"
     ]
    },
    {
     "data": {
      "image/png": "[encoded data removed]",
      "text/plain": [
       "<Figure size 640x480 with 1 Axes>"
      ]
     },
     "metadata": {},
     "output_type": "display_data"
    },
    {
     "name": "stderr",
     "output_type": "stream",
     "text": [
      "/opt/anaconda3/lib/python3.11/site-packages/seaborn/_oldcore.py:1119: FutureWarning: use_inf_as_na option is deprecated and will be removed in a future version. Convert inf values to NaN before operating instead.\n",
      "  with pd.option_context('mode.use_inf_as_na', True):\n"
     ]
    },
    {
     "data": {
      "image/png": "[encoded data removed]",
      "text/plain": [
       "<Figure size 640x480 with 1 Axes>"
      ]
     },
     "metadata": {},
     "output_type": "display_data"
    },
    {
     "name": "stderr",
     "output_type": "stream",
     "text": [
      "/opt/anaconda3/lib/python3.11/site-packages/seaborn/_oldcore.py:1119: FutureWarning: use_inf_as_na option is deprecated and will be removed in a future version. Convert inf values to NaN before operating instead.\n",
      "  with pd.option_context('mode.use_inf_as_na', True):\n"
     ]
    },
    {
     "data": {
      "image/png": "[encoded data removed]",
      "text/plain": [
       "<Figure size 640x480 with 1 Axes>"
      ]
     },
     "metadata": {},
     "output_type": "display_data"
    }
   ],
   "source": [
    "class FrequencyVisualizer:\n",
    "    def __init__(self, data):\n",
    "        self.data = data\n",
    "\n",
    "    def plot_histogram(self, column_name, title):\n",
    "        sns.histplot(self.data[column_name], bins=5,kde=True)\n",
    "        plt.xlabel('Value')\n",
    "        plt.ylabel('Frequency')\n",
    "        plt.title(title)\n",
    "        plt.show()\n",
    "\n",
    "    def plot_all_histograms(self):\n",
    "        columns = [\n",
    "            (\"X\", \"Distribution Histogram of X\"),\n",
    "            (\"Y\", \"Distribution Histogram of Y\"),\n",
    "            (\"Z\", \"Distribution Histogram of Z\"),\n",
    "            (\"EDA\", \"Distribution Histogram of EDA (Electrodermal Activity)\"),\n",
    "            (\"HR\", \"Distribution Histogram of HR (Heart Rate)\"),\n",
    "            (\"TEMP\", \"Distribution Histogram of TEMP (Temperature)\")\n",
    "        ]\n",
    "\n",
    "        for column, title in columns:\n",
    "            self.plot_histogram(column, title)\n",
    "\n",
    "visualizer = FrequencyVisualizer(data)\n",
    "\n",
    "visualizer.plot_all_histograms()\n"
   ]
  },
  {
   "cell_type": "code",
   "execution_count": 18,
   "id": "084be59f",
   "metadata": {},
   "outputs": [
    {
     "data": {
      "text/plain": [
       "label\n",
       "2.0    8467619\n",
       "0.0    2162245\n",
       "1.0     773581\n",
       "Name: count, dtype: int64"
      ]
     },
     "execution_count": 18,
     "metadata": {},
     "output_type": "execute_result"
    }
   ],
   "source": [
    "#Categorical Variable Analysis\n",
    "data['label'].value_counts()"
   ]
  },
  {
   "cell_type": "code",
   "execution_count": 19,
   "id": "fa47934d",
   "metadata": {},
   "outputs": [
    {
     "data": {
      "text/plain": [
       "Text(0, 0.5, 'Frequency')"
      ]
     },
     "execution_count": 19,
     "metadata": {},
     "output_type": "execute_result"
    },
    {
     "data": {
      "image/png": "[encoded data removed]",
      "text/plain": [
       "<Figure size 640x480 with 1 Axes>"
      ]
     },
     "metadata": {},
     "output_type": "display_data"
    }
   ],
   "source": [
    "data['label'].value_counts().plot(kind='bar')\n",
    "plt.title('Frequency per Category')\n",
    "plt.ylabel('Frequency')\n"
   ]
  },
  {
   "cell_type": "code",
   "execution_count": 20,
   "id": "136dec87",
   "metadata": {},
   "outputs": [
    {
     "name": "stderr",
     "output_type": "stream",
     "text": [
      "/opt/anaconda3/lib/python3.11/site-packages/seaborn/_oldcore.py:1119: FutureWarning: use_inf_as_na option is deprecated and will be removed in a future version. Convert inf values to NaN before operating instead.\n",
      "  with pd.option_context('mode.use_inf_as_na', True):\n"
     ]
    },
    {
     "data": {
      "text/plain": [
       "<seaborn.axisgrid.FacetGrid at 0x426431fd0>"
      ]
     },
     "execution_count": 20,
     "metadata": {},
     "output_type": "execute_result"
    },
    {
     "data": {
      "image/png": "[encoded data removed]",
      "text/plain": [
       "<Figure size 2322.12x500 with 3 Axes>"
      ]
     },
     "metadata": {},
     "output_type": "display_data"
    }
   ],
   "source": [
    "sns.displot(data = data, x = \"HR\", hue = \"label\", bins = 20, palette = \"Set3\", col = \"label\",\n",
    "            kde_kws = {\"bw_adjust\": 2.5}, stat = \"density\", kde = True, aspect = 1.5)"
   ]
  },
  {
   "cell_type": "code",
   "execution_count": 26,
   "id": "e5e8ab88",
   "metadata": {},
   "outputs": [
    {
     "name": "stderr",
     "output_type": "stream",
     "text": [
      "/opt/anaconda3/lib/python3.11/site-packages/seaborn/_oldcore.py:1119: FutureWarning:\n",
      "\n",
      "use_inf_as_na option is deprecated and will be removed in a future version. Convert inf values to NaN before operating instead.\n",
      "\n"
     ]
    },
    {
     "data": {
      "text/plain": [
       "<seaborn.axisgrid.FacetGrid at 0x36b2c85d0>"
      ]
     },
     "execution_count": 26,
     "metadata": {},
     "output_type": "execute_result"
    },
    {
     "data": {
      "image/png": "[encoded data removed]",
      "text/plain": [
       "<Figure size 2322.12x500 with 3 Axes>"
      ]
     },
     "metadata": {},
     "output_type": "display_data"
    }
   ],
   "source": [
    "sns.displot(data = data, x = \"EDA\", hue = \"label\", bins = 20, palette = \"Set3\", col = \"label\",\n",
    "            kde_kws = {\"bw_adjust\": 2.5}, stat = \"density\", kde = True, aspect = 1.5)"
   ]
  },
  {
   "cell_type": "code",
   "execution_count": 27,
   "id": "d37bf97b",
   "metadata": {},
   "outputs": [
    {
     "name": "stderr",
     "output_type": "stream",
     "text": [
      "/opt/anaconda3/lib/python3.11/site-packages/seaborn/_oldcore.py:1119: FutureWarning:\n",
      "\n",
      "use_inf_as_na option is deprecated and will be removed in a future version. Convert inf values to NaN before operating instead.\n",
      "\n"
     ]
    },
    {
     "data": {
      "text/plain": [
       "<seaborn.axisgrid.FacetGrid at 0x36be362d0>"
      ]
     },
     "execution_count": 27,
     "metadata": {},
     "output_type": "execute_result"
    },
    {
     "data": {
      "image/png": "[encoded data removed]",
      "text/plain": [
       "<Figure size 2322.12x500 with 3 Axes>"
      ]
     },
     "metadata": {},
     "output_type": "display_data"
    }
   ],
   "source": [
    "sns.displot(data = data, x = \"TEMP\", hue = \"label\", bins = 20, palette = \"Set3\", col = \"label\",\n",
    "            kde_kws = {\"bw_adjust\": 2.5}, stat = \"density\", kde = True, aspect = 1.5)"
   ]
  },
  {
   "cell_type": "code",
   "execution_count": 21,
   "id": "ee80bdcb",
   "metadata": {},
   "outputs": [
    {
     "data": {
      "image/png": "[encoded data removed]",
      "text/plain": [
       "<Figure size 1500x1200 with 4 Axes>"
      ]
     },
     "metadata": {},
     "output_type": "display_data"
    }
   ],
   "source": [
    "class FeatureVisualizer:\n",
    "    def __init__(self, data):\n",
    "        self.data = data\n",
    "\n",
    "    def plot_boxplot(self, x, y, title, xlabel, ylabel, ax):\n",
    "        sns.boxplot(x=x, y=y, data=self.data, ax=ax)\n",
    "        ax.set_title(title)\n",
    "        ax.set_xlabel(xlabel)\n",
    "        ax.set_ylabel(ylabel)\n",
    "\n",
    "    def plot_violinplot(self, x, y, title, xlabel, ylabel, ax):\n",
    "        sns.violinplot(x=x, y=y, data=self.data, ax=ax)\n",
    "        ax.set_title(title)\n",
    "        ax.set_xlabel(xlabel)\n",
    "        ax.set_ylabel(ylabel)\n",
    "\n",
    "    def plot_all(self):\n",
    "        fig, axes = plt.subplots(2, 2, figsize=(15, 12))\n",
    "        \n",
    "        # Plot boxplots\n",
    "        self.plot_boxplot(x='label', y='TEMP', title='Temperature Distribution by Label', xlabel='Label', ylabel='Temperature', ax=axes[0, 0])\n",
    "        self.plot_boxplot(x='label', y='HR', title='HR Distribution by Label', xlabel='Label', ylabel='HR', ax=axes[0, 1])\n",
    "        self.plot_boxplot(x='label', y='EDA', title='EDA Distribution by Label', xlabel='Label', ylabel='EDA', ax=axes[1, 0])\n",
    "        \n",
    "        # Plot violinplot\n",
    "        self.plot_violinplot(x='label', y='HR', title='Heart Rate Distribution by Label', xlabel='Label', ylabel='Heart Rate (bpm)', ax=axes[1, 1])\n",
    "        \n",
    "        plt.tight_layout()\n",
    "        plt.show()\n",
    "\n",
    "visualizer = FeatureVisualizer(data)\n",
    "visualizer.plot_all()\n"
   ]
  },
  {
   "cell_type": "code",
   "execution_count": 22,
   "id": "5576ba1f",
   "metadata": {},
   "outputs": [
    {
     "name": "stdout",
     "output_type": "stream",
     "text": [
      "              X         Y         Z       EDA        HR      TEMP     label\n",
      "X      1.000000  0.061378  0.197679 -0.129872  0.128854  0.026448 -0.009016\n",
      "Y      0.061378  1.000000  0.019268 -0.046627 -0.066294 -0.079620 -0.024973\n",
      "Z      0.197679  0.019268  1.000000 -0.100985 -0.104408 -0.031794 -0.058929\n",
      "EDA   -0.129872 -0.046627 -0.100985  1.000000  0.129322  0.438951  0.120275\n",
      "HR     0.128854 -0.066294 -0.104408  0.129322  1.000000  0.156965 -0.030715\n",
      "TEMP   0.026448 -0.079620 -0.031794  0.438951  0.156965  1.000000  0.138786\n",
      "label -0.009016 -0.024973 -0.058929  0.120275 -0.030715  0.138786  1.000000\n"
     ]
    }
   ],
   "source": [
    "# Calculate the Pearson correlation coefficient between features\n",
    "data = data.replace([np.inf, -np.inf], np.nan).dropna()\n",
    "numeric_cols = data.select_dtypes(include=['float64', 'int64']).columns\n",
    "correlation_matrix = data[numeric_cols].corr()\n",
    "print(correlation_matrix)"
   ]
  },
  {
   "cell_type": "code",
   "execution_count": 42,
   "id": "53a8f1ee",
   "metadata": {},
   "outputs": [
    {
     "data": {
      "application/vnd.plotly.v1+json": {
       "config": {
        "plotlyServerURL": "https://plot.ly"
       },
       "data": [
        {
         "colorscale": [
          [
           0,
           "rgb(255,247,251)"
          ],
          [
           0.125,
           "rgb(236,231,242)"
          ],
          [
           0.25,
           "rgb(208,209,230)"
          ],
          [
           0.375,
           "rgb(166,189,219)"
          ],
          [
           0.5,
           "rgb(116,169,207)"
          ],
          [
           0.625,
           "rgb(54,144,192)"
          ],
          [
           0.75,
           "rgb(5,112,176)"
          ],
          [
           0.875,
           "rgb(4,90,141)"
          ],
          [
           1,
           "rgb(2,56,88)"
          ]
         ],
         "reversescale": false,
         "showscale": true,
         "type": "heatmap",
         "x": [
          "X",
          "Y",
          "Z",
          "EDA",
          "HR",
          "TEMP",
          "label"
         ],
         "y": [
          "X",
          "Y",
          "Z",
          "EDA",
          "HR",
          "TEMP",
          "label"
         ],
         "z": [
          [
           1,
           0.06137849625278725,
           0.19767942794874152,
           -0.12987248481629576,
           0.12885430574046147,
           0.026448144146909075,
           -0.009016346470833292
          ],
          [
           0.06137849625278725,
           1,
           0.01926750205952734,
           -0.04662733321209437,
           -0.06629373765183412,
           -0.0796200487773871,
           -0.02497340565849211
          ],
          [
           0.19767942794874152,
           0.01926750205952734,
           1,
           -0.10098547044912759,
           -0.10440803857879447,
           -0.031793627335681925,
           -0.05892943698050111
          ],
          [
           -0.12987248481629576,
           -0.04662733321209437,
           -0.10098547044912759,
           1,
           0.12932190493114296,
           0.4389505765458549,
           0.12027516276381817
          ],
          [
           0.12885430574046147,
           -0.06629373765183412,
           -0.10440803857879447,
           0.12932190493114296,
           1,
           0.15696501950915068,
           -0.030715299734962308
          ],
          [
           0.026448144146909075,
           -0.0796200487773871,
           -0.031793627335681925,
           0.4389505765458549,
           0.15696501950915068,
           1,
           0.1387858712182665
          ],
          [
           -0.009016346470833292,
           -0.02497340565849211,
           -0.05892943698050111,
           0.12027516276381817,
           -0.030715299734962308,
           0.1387858712182665,
           1
          ]
         ],
         "zmax": 1,
         "zmin": -1
        }
       ],
       "layout": {
        "annotations": [
         {
          "font": {
           "color": "#FFFFFF"
          },
          "showarrow": false,
          "text": "1.0",
          "x": "X",
          "xref": "x",
          "y": "X",
          "yref": "y"
         },
         {
          "font": {
           "color": "#FFFFFF"
          },
          "showarrow": false,
          "text": "0.06",
          "x": "Y",
          "xref": "x",
          "y": "X",
          "yref": "y"
         },
         {
          "font": {
           "color": "#FFFFFF"
          },
          "showarrow": false,
          "text": "0.2",
          "x": "Z",
          "xref": "x",
          "y": "X",
          "yref": "y"
         },
         {
          "font": {
           "color": "#000000"
          },
          "showarrow": false,
          "text": "-0.13",
          "x": "EDA",
          "xref": "x",
          "y": "X",
          "yref": "y"
         },
         {
          "font": {
           "color": "#FFFFFF"
          },
          "showarrow": false,
          "text": "0.13",
          "x": "HR",
          "xref": "x",
          "y": "X",
          "yref": "y"
         },
         {
          "font": {
           "color": "#FFFFFF"
          },
          "showarrow": false,
          "text": "0.03",
          "x": "TEMP",
          "xref": "x",
          "y": "X",
          "yref": "y"
         },
         {
          "font": {
           "color": "#000000"
          },
          "showarrow": false,
          "text": "-0.01",
          "x": "label",
          "xref": "x",
          "y": "X",
          "yref": "y"
         },
         {
          "font": {
           "color": "#FFFFFF"
          },
          "showarrow": false,
          "text": "0.06",
          "x": "X",
          "xref": "x",
          "y": "Y",
          "yref": "y"
         },
         {
          "font": {
           "color": "#FFFFFF"
          },
          "showarrow": false,
          "text": "1.0",
          "x": "Y",
          "xref": "x",
          "y": "Y",
          "yref": "y"
         },
         {
          "font": {
           "color": "#FFFFFF"
          },
          "showarrow": false,
          "text": "0.02",
          "x": "Z",
          "xref": "x",
          "y": "Y",
          "yref": "y"
         },
         {
          "font": {
           "color": "#000000"
          },
          "showarrow": false,
          "text": "-0.05",
          "x": "EDA",
          "xref": "x",
          "y": "Y",
          "yref": "y"
         },
         {
          "font": {
           "color": "#000000"
          },
          "showarrow": false,
          "text": "-0.07",
          "x": "HR",
          "xref": "x",
          "y": "Y",
          "yref": "y"
         },
         {
          "font": {
           "color": "#000000"
          },
          "showarrow": false,
          "text": "-0.08",
          "x": "TEMP",
          "xref": "x",
          "y": "Y",
          "yref": "y"
         },
         {
          "font": {
           "color": "#000000"
          },
          "showarrow": false,
          "text": "-0.02",
          "x": "label",
          "xref": "x",
          "y": "Y",
          "yref": "y"
         },
         {
          "font": {
           "color": "#FFFFFF"
          },
          "showarrow": false,
          "text": "0.2",
          "x": "X",
          "xref": "x",
          "y": "Z",
          "yref": "y"
         },
         {
          "font": {
           "color": "#FFFFFF"
          },
          "showarrow": false,
          "text": "0.02",
          "x": "Y",
          "xref": "x",
          "y": "Z",
          "yref": "y"
         },
         {
          "font": {
           "color": "#FFFFFF"
          },
          "showarrow": false,
          "text": "1.0",
          "x": "Z",
          "xref": "x",
          "y": "Z",
          "yref": "y"
         },
         {
          "font": {
           "color": "#000000"
          },
          "showarrow": false,
          "text": "-0.1",
          "x": "EDA",
          "xref": "x",
          "y": "Z",
          "yref": "y"
         },
         {
          "font": {
           "color": "#000000"
          },
          "showarrow": false,
          "text": "-0.1",
          "x": "HR",
          "xref": "x",
          "y": "Z",
          "yref": "y"
         },
         {
          "font": {
           "color": "#000000"
          },
          "showarrow": false,
          "text": "-0.03",
          "x": "TEMP",
          "xref": "x",
          "y": "Z",
          "yref": "y"
         },
         {
          "font": {
           "color": "#000000"
          },
          "showarrow": false,
          "text": "-0.06",
          "x": "label",
          "xref": "x",
          "y": "Z",
          "yref": "y"
         },
         {
          "font": {
           "color": "#000000"
          },
          "showarrow": false,
          "text": "-0.13",
          "x": "X",
          "xref": "x",
          "y": "EDA",
          "yref": "y"
         },
         {
          "font": {
           "color": "#000000"
          },
          "showarrow": false,
          "text": "-0.05",
          "x": "Y",
          "xref": "x",
          "y": "EDA",
          "yref": "y"
         },
         {
          "font": {
           "color": "#000000"
          },
          "showarrow": false,
          "text": "-0.1",
          "x": "Z",
          "xref": "x",
          "y": "EDA",
          "yref": "y"
         },
         {
          "font": {
           "color": "#FFFFFF"
          },
          "showarrow": false,
          "text": "1.0",
          "x": "EDA",
          "xref": "x",
          "y": "EDA",
          "yref": "y"
         },
         {
          "font": {
           "color": "#FFFFFF"
          },
          "showarrow": false,
          "text": "0.13",
          "x": "HR",
          "xref": "x",
          "y": "EDA",
          "yref": "y"
         },
         {
          "font": {
           "color": "#FFFFFF"
          },
          "showarrow": false,
          "text": "0.44",
          "x": "TEMP",
          "xref": "x",
          "y": "EDA",
          "yref": "y"
         },
         {
          "font": {
           "color": "#FFFFFF"
          },
          "showarrow": false,
          "text": "0.12",
          "x": "label",
          "xref": "x",
          "y": "EDA",
          "yref": "y"
         },
         {
          "font": {
           "color": "#FFFFFF"
          },
          "showarrow": false,
          "text": "0.13",
          "x": "X",
          "xref": "x",
          "y": "HR",
          "yref": "y"
         },
         {
          "font": {
           "color": "#000000"
          },
          "showarrow": false,
          "text": "-0.07",
          "x": "Y",
          "xref": "x",
          "y": "HR",
          "yref": "y"
         },
         {
          "font": {
           "color": "#000000"
          },
          "showarrow": false,
          "text": "-0.1",
          "x": "Z",
          "xref": "x",
          "y": "HR",
          "yref": "y"
         },
         {
          "font": {
           "color": "#FFFFFF"
          },
          "showarrow": false,
          "text": "0.13",
          "x": "EDA",
          "xref": "x",
          "y": "HR",
          "yref": "y"
         },
         {
          "font": {
           "color": "#FFFFFF"
          },
          "showarrow": false,
          "text": "1.0",
          "x": "HR",
          "xref": "x",
          "y": "HR",
          "yref": "y"
         },
         {
          "font": {
           "color": "#FFFFFF"
          },
          "showarrow": false,
          "text": "0.16",
          "x": "TEMP",
          "xref": "x",
          "y": "HR",
          "yref": "y"
         },
         {
          "font": {
           "color": "#000000"
          },
          "showarrow": false,
          "text": "-0.03",
          "x": "label",
          "xref": "x",
          "y": "HR",
          "yref": "y"
         },
         {
          "font": {
           "color": "#FFFFFF"
          },
          "showarrow": false,
          "text": "0.03",
          "x": "X",
          "xref": "x",
          "y": "TEMP",
          "yref": "y"
         },
         {
          "font": {
           "color": "#000000"
          },
          "showarrow": false,
          "text": "-0.08",
          "x": "Y",
          "xref": "x",
          "y": "TEMP",
          "yref": "y"
         },
         {
          "font": {
           "color": "#000000"
          },
          "showarrow": false,
          "text": "-0.03",
          "x": "Z",
          "xref": "x",
          "y": "TEMP",
          "yref": "y"
         },
         {
          "font": {
           "color": "#FFFFFF"
          },
          "showarrow": false,
          "text": "0.44",
          "x": "EDA",
          "xref": "x",
          "y": "TEMP",
          "yref": "y"
         },
         {
          "font": {
           "color": "#FFFFFF"
          },
          "showarrow": false,
          "text": "0.16",
          "x": "HR",
          "xref": "x",
          "y": "TEMP",
          "yref": "y"
         },
         {
          "font": {
           "color": "#FFFFFF"
          },
          "showarrow": false,
          "text": "1.0",
          "x": "TEMP",
          "xref": "x",
          "y": "TEMP",
          "yref": "y"
         },
         {
          "font": {
           "color": "#FFFFFF"
          },
          "showarrow": false,
          "text": "0.14",
          "x": "label",
          "xref": "x",
          "y": "TEMP",
          "yref": "y"
         },
         {
          "font": {
           "color": "#000000"
          },
          "showarrow": false,
          "text": "-0.01",
          "x": "X",
          "xref": "x",
          "y": "label",
          "yref": "y"
         },
         {
          "font": {
           "color": "#000000"
          },
          "showarrow": false,
          "text": "-0.02",
          "x": "Y",
          "xref": "x",
          "y": "label",
          "yref": "y"
         },
         {
          "font": {
           "color": "#000000"
          },
          "showarrow": false,
          "text": "-0.06",
          "x": "Z",
          "xref": "x",
          "y": "label",
          "yref": "y"
         },
         {
          "font": {
           "color": "#FFFFFF"
          },
          "showarrow": false,
          "text": "0.12",
          "x": "EDA",
          "xref": "x",
          "y": "label",
          "yref": "y"
         },
         {
          "font": {
           "color": "#000000"
          },
          "showarrow": false,
          "text": "-0.03",
          "x": "HR",
          "xref": "x",
          "y": "label",
          "yref": "y"
         },
         {
          "font": {
           "color": "#FFFFFF"
          },
          "showarrow": false,
          "text": "0.14",
          "x": "TEMP",
          "xref": "x",
          "y": "label",
          "yref": "y"
         },
         {
          "font": {
           "color": "#FFFFFF"
          },
          "showarrow": false,
          "text": "1.0",
          "x": "label",
          "xref": "x",
          "y": "label",
          "yref": "y"
         }
        ],
        "height": 800,
        "template": {
         "data": {
          "bar": [
           {
            "error_x": {
             "color": "#2a3f5f"
            },
            "error_y": {
             "color": "#2a3f5f"
            },
            "marker": {
             "line": {
              "color": "#E5ECF6",
              "width": 0.5
             },
             "pattern": {
              "fillmode": "overlay",
              "size": 10,
              "solidity": 0.2
             }
            },
            "type": "bar"
           }
          ],
          "barpolar": [
           {
            "marker": {
             "line": {
              "color": "#E5ECF6",
              "width": 0.5
             },
             "pattern": {
              "fillmode": "overlay",
              "size": 10,
              "solidity": 0.2
             }
            },
            "type": "barpolar"
           }
          ],
          "carpet": [
           {
            "aaxis": {
             "endlinecolor": "#2a3f5f",
             "gridcolor": "white",
             "linecolor": "white",
             "minorgridcolor": "white",
             "startlinecolor": "#2a3f5f"
            },
            "baxis": {
             "endlinecolor": "#2a3f5f",
             "gridcolor": "white",
             "linecolor": "white",
             "minorgridcolor": "white",
             "startlinecolor": "#2a3f5f"
            },
            "type": "carpet"
           }
          ],
          "choropleth": [
           {
            "colorbar": {
             "outlinewidth": 0,
             "ticks": ""
            },
            "type": "choropleth"
           }
          ],
          "contour": [
           {
            "colorbar": {
             "outlinewidth": 0,
             "ticks": ""
            },
            "colorscale": [
             [
              0,
              "#0d0887"
             ],
             [
              0.1111111111111111,
              "#46039f"
             ],
             [
              0.2222222222222222,
              "#7201a8"
             ],
             [
              0.3333333333333333,
              "#9c179e"
             ],
             [
              0.4444444444444444,
              "#bd3786"
             ],
             [
              0.5555555555555556,
              "#d8576b"
             ],
             [
              0.6666666666666666,
              "#ed7953"
             ],
             [
              0.7777777777777778,
              "#fb9f3a"
             ],
             [
              0.8888888888888888,
              "#fdca26"
             ],
             [
              1,
              "#f0f921"
             ]
            ],
            "type": "contour"
           }
          ],
          "contourcarpet": [
           {
            "colorbar": {
             "outlinewidth": 0,
             "ticks": ""
            },
            "type": "contourcarpet"
           }
          ],
          "heatmap": [
           {
            "colorbar": {
             "outlinewidth": 0,
             "ticks": ""
            },
            "colorscale": [
             [
              0,
              "#0d0887"
             ],
             [
              0.1111111111111111,
              "#46039f"
             ],
             [
              0.2222222222222222,
              "#7201a8"
             ],
             [
              0.3333333333333333,
              "#9c179e"
             ],
             [
              0.4444444444444444,
              "#bd3786"
             ],
             [
              0.5555555555555556,
              "#d8576b"
             ],
             [
              0.6666666666666666,
              "#ed7953"
             ],
             [
              0.7777777777777778,
              "#fb9f3a"
             ],
             [
              0.8888888888888888,
              "#fdca26"
             ],
             [
              1,
              "#f0f921"
             ]
            ],
            "type": "heatmap"
           }
          ],
          "heatmapgl": [
           {
            "colorbar": {
             "outlinewidth": 0,
             "ticks": ""
            },
            "colorscale": [
             [
              0,
              "#0d0887"
             ],
             [
              0.1111111111111111,
              "#46039f"
             ],
             [
              0.2222222222222222,
              "#7201a8"
             ],
             [
              0.3333333333333333,
              "#9c179e"
             ],
             [
              0.4444444444444444,
              "#bd3786"
             ],
             [
              0.5555555555555556,
              "#d8576b"
             ],
             [
              0.6666666666666666,
              "#ed7953"
             ],
             [
              0.7777777777777778,
              "#fb9f3a"
             ],
             [
              0.8888888888888888,
              "#fdca26"
             ],
             [
              1,
              "#f0f921"
             ]
            ],
            "type": "heatmapgl"
           }
          ],
          "histogram": [
           {
            "marker": {
             "pattern": {
              "fillmode": "overlay",
              "size": 10,
              "solidity": 0.2
             }
            },
            "type": "histogram"
           }
          ],
          "histogram2d": [
           {
            "colorbar": {
             "outlinewidth": 0,
             "ticks": ""
            },
            "colorscale": [
             [
              0,
              "#0d0887"
             ],
             [
              0.1111111111111111,
              "#46039f"
             ],
             [
              0.2222222222222222,
              "#7201a8"
             ],
             [
              0.3333333333333333,
              "#9c179e"
             ],
             [
              0.4444444444444444,
              "#bd3786"
             ],
             [
              0.5555555555555556,
              "#d8576b"
             ],
             [
              0.6666666666666666,
              "#ed7953"
             ],
             [
              0.7777777777777778,
              "#fb9f3a"
             ],
             [
              0.8888888888888888,
              "#fdca26"
             ],
             [
              1,
              "#f0f921"
             ]
            ],
            "type": "histogram2d"
           }
          ],
          "histogram2dcontour": [
           {
            "colorbar": {
             "outlinewidth": 0,
             "ticks": ""
            },
            "colorscale": [
             [
              0,
              "#0d0887"
             ],
             [
              0.1111111111111111,
              "#46039f"
             ],
             [
              0.2222222222222222,
              "#7201a8"
             ],
             [
              0.3333333333333333,
              "#9c179e"
             ],
             [
              0.4444444444444444,
              "#bd3786"
             ],
             [
              0.5555555555555556,
              "#d8576b"
             ],
             [
              0.6666666666666666,
              "#ed7953"
             ],
             [
              0.7777777777777778,
              "#fb9f3a"
             ],
             [
              0.8888888888888888,
              "#fdca26"
             ],
             [
              1,
              "#f0f921"
             ]
            ],
            "type": "histogram2dcontour"
           }
          ],
          "mesh3d": [
           {
            "colorbar": {
             "outlinewidth": 0,
             "ticks": ""
            },
            "type": "mesh3d"
           }
          ],
          "parcoords": [
           {
            "line": {
             "colorbar": {
              "outlinewidth": 0,
              "ticks": ""
             }
            },
            "type": "parcoords"
           }
          ],
          "pie": [
           {
            "automargin": true,
            "type": "pie"
           }
          ],
          "scatter": [
           {
            "fillpattern": {
             "fillmode": "overlay",
             "size": 10,
             "solidity": 0.2
            },
            "type": "scatter"
           }
          ],
          "scatter3d": [
           {
            "line": {
             "colorbar": {
              "outlinewidth": 0,
              "ticks": ""
             }
            },
            "marker": {
             "colorbar": {
              "outlinewidth": 0,
              "ticks": ""
             }
            },
            "type": "scatter3d"
           }
          ],
          "scattercarpet": [
           {
            "marker": {
             "colorbar": {
              "outlinewidth": 0,
              "ticks": ""
             }
            },
            "type": "scattercarpet"
           }
          ],
          "scattergeo": [
           {
            "marker": {
             "colorbar": {
              "outlinewidth": 0,
              "ticks": ""
             }
            },
            "type": "scattergeo"
           }
          ],
          "scattergl": [
           {
            "marker": {
             "colorbar": {
              "outlinewidth": 0,
              "ticks": ""
             }
            },
            "type": "scattergl"
           }
          ],
          "scattermapbox": [
           {
            "marker": {
             "colorbar": {
              "outlinewidth": 0,
              "ticks": ""
             }
            },
            "type": "scattermapbox"
           }
          ],
          "scatterpolar": [
           {
            "marker": {
             "colorbar": {
              "outlinewidth": 0,
              "ticks": ""
             }
            },
            "type": "scatterpolar"
           }
          ],
          "scatterpolargl": [
           {
            "marker": {
             "colorbar": {
              "outlinewidth": 0,
              "ticks": ""
             }
            },
            "type": "scatterpolargl"
           }
          ],
          "scatterternary": [
           {
            "marker": {
             "colorbar": {
              "outlinewidth": 0,
              "ticks": ""
             }
            },
            "type": "scatterternary"
           }
          ],
          "surface": [
           {
            "colorbar": {
             "outlinewidth": 0,
             "ticks": ""
            },
            "colorscale": [
             [
              0,
              "#0d0887"
             ],
             [
              0.1111111111111111,
              "#46039f"
             ],
             [
              0.2222222222222222,
              "#7201a8"
             ],
             [
              0.3333333333333333,
              "#9c179e"
             ],
             [
              0.4444444444444444,
              "#bd3786"
             ],
             [
              0.5555555555555556,
              "#d8576b"
             ],
             [
              0.6666666666666666,
              "#ed7953"
             ],
             [
              0.7777777777777778,
              "#fb9f3a"
             ],
             [
              0.8888888888888888,
              "#fdca26"
             ],
             [
              1,
              "#f0f921"
             ]
            ],
            "type": "surface"
           }
          ],
          "table": [
           {
            "cells": {
             "fill": {
              "color": "#EBF0F8"
             },
             "line": {
              "color": "white"
             }
            },
            "header": {
             "fill": {
              "color": "#C8D4E3"
             },
             "line": {
              "color": "white"
             }
            },
            "type": "table"
           }
          ]
         },
         "layout": {
          "annotationdefaults": {
           "arrowcolor": "#2a3f5f",
           "arrowhead": 0,
           "arrowwidth": 1
          },
          "autotypenumbers": "strict",
          "coloraxis": {
           "colorbar": {
            "outlinewidth": 0,
            "ticks": ""
           }
          },
          "colorscale": {
           "diverging": [
            [
             0,
             "#8e0152"
            ],
            [
             0.1,
             "#c51b7d"
            ],
            [
             0.2,
             "#de77ae"
            ],
            [
             0.3,
             "#f1b6da"
            ],
            [
             0.4,
             "#fde0ef"
            ],
            [
             0.5,
             "#f7f7f7"
            ],
            [
             0.6,
             "#e6f5d0"
            ],
            [
             0.7,
             "#b8e186"
            ],
            [
             0.8,
             "#7fbc41"
            ],
            [
             0.9,
             "#4d9221"
            ],
            [
             1,
             "#276419"
            ]
           ],
           "sequential": [
            [
             0,
             "#0d0887"
            ],
            [
             0.1111111111111111,
             "#46039f"
            ],
            [
             0.2222222222222222,
             "#7201a8"
            ],
            [
             0.3333333333333333,
             "#9c179e"
            ],
            [
             0.4444444444444444,
             "#bd3786"
            ],
            [
             0.5555555555555556,
             "#d8576b"
            ],
            [
             0.6666666666666666,
             "#ed7953"
            ],
            [
             0.7777777777777778,
             "#fb9f3a"
            ],
            [
             0.8888888888888888,
             "#fdca26"
            ],
            [
             1,
             "#f0f921"
            ]
           ],
           "sequentialminus": [
            [
             0,
             "#0d0887"
            ],
            [
             0.1111111111111111,
             "#46039f"
            ],
            [
             0.2222222222222222,
             "#7201a8"
            ],
            [
             0.3333333333333333,
             "#9c179e"
            ],
            [
             0.4444444444444444,
             "#bd3786"
            ],
            [
             0.5555555555555556,
             "#d8576b"
            ],
            [
             0.6666666666666666,
             "#ed7953"
            ],
            [
             0.7777777777777778,
             "#fb9f3a"
            ],
            [
             0.8888888888888888,
             "#fdca26"
            ],
            [
             1,
             "#f0f921"
            ]
           ]
          },
          "colorway": [
           "#636efa",
           "#EF553B",
           "#00cc96",
           "#ab63fa",
           "#FFA15A",
           "#19d3f3",
           "#FF6692",
           "#B6E880",
           "#FF97FF",
           "#FECB52"
          ],
          "font": {
           "color": "#2a3f5f"
          },
          "geo": {
           "bgcolor": "white",
           "lakecolor": "white",
           "landcolor": "#E5ECF6",
           "showlakes": true,
           "showland": true,
           "subunitcolor": "white"
          },
          "hoverlabel": {
           "align": "left"
          },
          "hovermode": "closest",
          "mapbox": {
           "style": "light"
          },
          "paper_bgcolor": "white",
          "plot_bgcolor": "#E5ECF6",
          "polar": {
           "angularaxis": {
            "gridcolor": "white",
            "linecolor": "white",
            "ticks": ""
           },
           "bgcolor": "#E5ECF6",
           "radialaxis": {
            "gridcolor": "white",
            "linecolor": "white",
            "ticks": ""
           }
          },
          "scene": {
           "xaxis": {
            "backgroundcolor": "#E5ECF6",
            "gridcolor": "white",
            "gridwidth": 2,
            "linecolor": "white",
            "showbackground": true,
            "ticks": "",
            "zerolinecolor": "white"
           },
           "yaxis": {
            "backgroundcolor": "#E5ECF6",
            "gridcolor": "white",
            "gridwidth": 2,
            "linecolor": "white",
            "showbackground": true,
            "ticks": "",
            "zerolinecolor": "white"
           },
           "zaxis": {
            "backgroundcolor": "#E5ECF6",
            "gridcolor": "white",
            "gridwidth": 2,
            "linecolor": "white",
            "showbackground": true,
            "ticks": "",
            "zerolinecolor": "white"
           }
          },
          "shapedefaults": {
           "line": {
            "color": "#2a3f5f"
           }
          },
          "ternary": {
           "aaxis": {
            "gridcolor": "white",
            "linecolor": "white",
            "ticks": ""
           },
           "baxis": {
            "gridcolor": "white",
            "linecolor": "white",
            "ticks": ""
           },
           "bgcolor": "#E5ECF6",
           "caxis": {
            "gridcolor": "white",
            "linecolor": "white",
            "ticks": ""
           }
          },
          "title": {
           "x": 0.05
          },
          "xaxis": {
           "automargin": true,
           "gridcolor": "white",
           "linecolor": "white",
           "ticks": "",
           "title": {
            "standoff": 15
           },
           "zerolinecolor": "white",
           "zerolinewidth": 2
          },
          "yaxis": {
           "automargin": true,
           "gridcolor": "white",
           "linecolor": "white",
           "ticks": "",
           "title": {
            "standoff": 15
           },
           "zerolinecolor": "white",
           "zerolinewidth": 2
          }
         }
        },
        "title": {
         "text": "Correlation Heatmap"
        },
        "width": 800,
        "xaxis": {
         "dtick": 1,
         "gridcolor": "rgb(0, 0, 0)",
         "nticks": 36,
         "side": "top",
         "ticks": ""
        },
        "yaxis": {
         "dtick": 1,
         "ticks": "",
         "ticksuffix": "  "
        }
       }
      }
     },
     "metadata": {},
     "output_type": "display_data"
    }
   ],
   "source": [
    "import plotly.figure_factory as ff\n",
    "\n",
    "# Create a heatmap using Plotly with a recognized color scale\n",
    "fig = ff.create_annotated_heatmap(\n",
    "    z=correlation_matrix.values,\n",
    "    x=correlation_matrix.columns.tolist(),\n",
    "    y=correlation_matrix.columns.tolist(),\n",
    "    annotation_text=correlation_matrix.round(2).values,\n",
    "    colorscale='PuBu',  \n",
    "    showscale=True,\n",
    "    zmin=-1,\n",
    "    zmax=1\n",
    ")\n",
    "\n",
    "fig.update_layout(\n",
    "    title='Correlation Heatmap',\n",
    "    xaxis_nticks=36,\n",
    "    width=800,\n",
    "    height=800\n",
    ")\n",
    "\n",
    "fig.show()\n"
   ]
  },
  {
   "cell_type": "code",
   "execution_count": 43,
   "id": "16897162",
   "metadata": {},
   "outputs": [
    {
     "name": "stdout",
     "output_type": "stream",
     "text": [
      "ANOVA test result: F = 5385.4868391642885, p = 0.0\n",
      "There is a significant difference in heart rate across the labels.\n"
     ]
    }
   ],
   "source": [
    "# ANOVA test\n",
    "import scipy.stats as stats\n",
    "\n",
    "anova_HR = stats.f_oneway(data[data['label'] == 0]['HR'],\n",
    "                              data[data['label'] == 1]['HR'],\n",
    "                              data[data['label'] == 2]['HR'])\n",
    "\n",
    "print(f\"ANOVA test result: F = {anova_HR.statistic}, p = {anova_HR.pvalue}\")\n",
    "if anova_HR.pvalue < 0.05:\n",
    "    print(\"There is a significant difference in heart rate across the labels.\")\n",
    "else:\n",
    "    print(\"There is no significant difference in heart rate across the labels.\")"
   ]
  },
  {
   "cell_type": "code",
   "execution_count": 44,
   "id": "3c2bc697",
   "metadata": {},
   "outputs": [
    {
     "name": "stdout",
     "output_type": "stream",
     "text": [
      "ANOVA test result: F = 84019.48932441833, p = 0.0\n",
      "There is a significant difference in EDA across the labels.\n"
     ]
    }
   ],
   "source": [
    "anova_EDA = stats.f_oneway(data[data['label'] == 0]['EDA'],\n",
    "                              data[data['label'] == 1]['EDA'],\n",
    "                              data[data['label'] == 2]['EDA'])\n",
    "\n",
    "print(f\"ANOVA test result: F = {anova_EDA.statistic}, p = {anova_EDA.pvalue}\")\n",
    "if anova_EDA.pvalue < 0.05:\n",
    "    print(\"There is a significant difference in EDA across the labels.\")\n",
    "else:\n",
    "    print(\"There is no significant difference in EDA across the labels.\")"
   ]
  },
  {
   "cell_type": "code",
   "execution_count": 45,
   "id": "9366f724",
   "metadata": {},
   "outputs": [
    {
     "name": "stdout",
     "output_type": "stream",
     "text": [
      "ANOVA test result: F = 112025.77009291493, p = 0.0\n",
      "There is a significant difference in TEMP across the labels.\n"
     ]
    }
   ],
   "source": [
    "anova_TEMP = stats.f_oneway(data[data['label'] == 0]['TEMP'],\n",
    "                              data[data['label'] == 1]['TEMP'],\n",
    "                              data[data['label'] == 2]['TEMP'])\n",
    "\n",
    "print(f\"ANOVA test result: F = {anova_TEMP.statistic}, p = {anova_TEMP.pvalue}\")\n",
    "if anova_TEMP.pvalue < 0.05:\n",
    "    print(\"There is a significant difference in TEMP across the labels.\")\n",
    "else:\n",
    "    print(\"There is no significant difference in TEMP across the labels.\")"
   ]
  },
  {
   "cell_type": "markdown",
   "id": "5e269487",
   "metadata": {},
   "source": [
    "## Feature Engineering"
   ]
  },
  {
   "cell_type": "code",
   "execution_count": 46,
   "id": "7947adad",
   "metadata": {},
   "outputs": [
    {
     "data": {
      "text/html": [
       "<div>\n",
       "<style scoped>\n",
       "    .dataframe tbody tr th:only-of-type {\n",
       "        vertical-align: middle;\n",
       "    }\n",
       "\n",
       "    .dataframe tbody tr th {\n",
       "        vertical-align: top;\n",
       "    }\n",
       "\n",
       "    .dataframe thead th {\n",
       "        text-align: right;\n",
       "    }\n",
       "</style>\n",
       "<table border=\"1\" class=\"dataframe\">\n",
       "  <thead>\n",
       "    <tr style=\"text-align: right;\">\n",
       "      <th></th>\n",
       "      <th>X</th>\n",
       "      <th>Y</th>\n",
       "      <th>Z</th>\n",
       "      <th>EDA</th>\n",
       "      <th>HR</th>\n",
       "      <th>TEMP</th>\n",
       "      <th>datetime</th>\n",
       "      <th>label</th>\n",
       "      <th>year</th>\n",
       "      <th>month</th>\n",
       "      <th>day</th>\n",
       "      <th>hour</th>\n",
       "      <th>minute</th>\n",
       "      <th>second</th>\n",
       "    </tr>\n",
       "  </thead>\n",
       "  <tbody>\n",
       "    <tr>\n",
       "      <th>0</th>\n",
       "      <td>0.486794</td>\n",
       "      <td>-1.799286</td>\n",
       "      <td>-0.634187</td>\n",
       "      <td>2.626008</td>\n",
       "      <td>0.960611</td>\n",
       "      <td>-0.477628</td>\n",
       "      <td>2020-07-08 14:03:00.000000000</td>\n",
       "      <td>2.0</td>\n",
       "      <td>2020</td>\n",
       "      <td>7</td>\n",
       "      <td>8</td>\n",
       "      <td>14</td>\n",
       "      <td>3</td>\n",
       "      <td>0</td>\n",
       "    </tr>\n",
       "    <tr>\n",
       "      <th>1</th>\n",
       "      <td>0.263960</td>\n",
       "      <td>-2.039581</td>\n",
       "      <td>-0.902006</td>\n",
       "      <td>2.626008</td>\n",
       "      <td>0.960611</td>\n",
       "      <td>-0.477628</td>\n",
       "      <td>2020-07-08 14:03:00.031249920</td>\n",
       "      <td>2.0</td>\n",
       "      <td>2020</td>\n",
       "      <td>7</td>\n",
       "      <td>8</td>\n",
       "      <td>14</td>\n",
       "      <td>3</td>\n",
       "      <td>0</td>\n",
       "    </tr>\n",
       "    <tr>\n",
       "      <th>2</th>\n",
       "      <td>-0.086207</td>\n",
       "      <td>-2.309914</td>\n",
       "      <td>-1.303733</td>\n",
       "      <td>2.626008</td>\n",
       "      <td>0.960611</td>\n",
       "      <td>-0.477628</td>\n",
       "      <td>2020-07-08 14:03:00.062500096</td>\n",
       "      <td>2.0</td>\n",
       "      <td>2020</td>\n",
       "      <td>7</td>\n",
       "      <td>8</td>\n",
       "      <td>14</td>\n",
       "      <td>3</td>\n",
       "      <td>0</td>\n",
       "    </tr>\n",
       "    <tr>\n",
       "      <th>3</th>\n",
       "      <td>-0.595541</td>\n",
       "      <td>-1.919434</td>\n",
       "      <td>-2.073711</td>\n",
       "      <td>2.626008</td>\n",
       "      <td>0.960611</td>\n",
       "      <td>-0.477628</td>\n",
       "      <td>2020-07-08 14:03:00.093750016</td>\n",
       "      <td>2.0</td>\n",
       "      <td>2020</td>\n",
       "      <td>7</td>\n",
       "      <td>8</td>\n",
       "      <td>14</td>\n",
       "      <td>3</td>\n",
       "      <td>0</td>\n",
       "    </tr>\n",
       "    <tr>\n",
       "      <th>4</th>\n",
       "      <td>-1.232208</td>\n",
       "      <td>-1.679138</td>\n",
       "      <td>-2.575870</td>\n",
       "      <td>2.626008</td>\n",
       "      <td>0.960611</td>\n",
       "      <td>-0.477628</td>\n",
       "      <td>2020-07-08 14:03:00.124999936</td>\n",
       "      <td>2.0</td>\n",
       "      <td>2020</td>\n",
       "      <td>7</td>\n",
       "      <td>8</td>\n",
       "      <td>14</td>\n",
       "      <td>3</td>\n",
       "      <td>0</td>\n",
       "    </tr>\n",
       "  </tbody>\n",
       "</table>\n",
       "</div>"
      ],
      "text/plain": [
       "          X         Y         Z       EDA        HR      TEMP  \\\n",
       "0  0.486794 -1.799286 -0.634187  2.626008  0.960611 -0.477628   \n",
       "1  0.263960 -2.039581 -0.902006  2.626008  0.960611 -0.477628   \n",
       "2 -0.086207 -2.309914 -1.303733  2.626008  0.960611 -0.477628   \n",
       "3 -0.595541 -1.919434 -2.073711  2.626008  0.960611 -0.477628   \n",
       "4 -1.232208 -1.679138 -2.575870  2.626008  0.960611 -0.477628   \n",
       "\n",
       "                       datetime  label  year  month  day  hour  minute  second  \n",
       "0 2020-07-08 14:03:00.000000000    2.0  2020      7    8    14       3       0  \n",
       "1 2020-07-08 14:03:00.031249920    2.0  2020      7    8    14       3       0  \n",
       "2 2020-07-08 14:03:00.062500096    2.0  2020      7    8    14       3       0  \n",
       "3 2020-07-08 14:03:00.093750016    2.0  2020      7    8    14       3       0  \n",
       "4 2020-07-08 14:03:00.124999936    2.0  2020      7    8    14       3       0  "
      ]
     },
     "execution_count": 46,
     "metadata": {},
     "output_type": "execute_result"
    }
   ],
   "source": [
    "#standardization & normalization\n",
    "\n",
    "\n",
    "from sklearn.preprocessing import StandardScaler\n",
    "\n",
    "features_1 = ['X', 'Y', 'Z', 'EDA', 'HR', 'TEMP']\n",
    "\n",
    "scaler = StandardScaler()\n",
    "\n",
    "data[features_1] = scaler.fit_transform(data[features_1])\n",
    "\n",
    "data.head(5)"
   ]
  },
  {
   "cell_type": "code",
   "execution_count": 47,
   "id": "4055a99b",
   "metadata": {},
   "outputs": [
    {
     "data": {
      "text/html": [
       "<div>\n",
       "<style scoped>\n",
       "    .dataframe tbody tr th:only-of-type {\n",
       "        vertical-align: middle;\n",
       "    }\n",
       "\n",
       "    .dataframe tbody tr th {\n",
       "        vertical-align: top;\n",
       "    }\n",
       "\n",
       "    .dataframe thead th {\n",
       "        text-align: right;\n",
       "    }\n",
       "</style>\n",
       "<table border=\"1\" class=\"dataframe\">\n",
       "  <thead>\n",
       "    <tr style=\"text-align: right;\">\n",
       "      <th></th>\n",
       "      <th>X</th>\n",
       "      <th>Y</th>\n",
       "      <th>Z</th>\n",
       "      <th>EDA</th>\n",
       "      <th>HR</th>\n",
       "      <th>TEMP</th>\n",
       "      <th>label</th>\n",
       "      <th>year</th>\n",
       "      <th>month</th>\n",
       "      <th>day</th>\n",
       "      <th>hour</th>\n",
       "      <th>minute</th>\n",
       "      <th>second</th>\n",
       "    </tr>\n",
       "  </thead>\n",
       "  <tbody>\n",
       "    <tr>\n",
       "      <th>X</th>\n",
       "      <td>1.000000</td>\n",
       "      <td>0.061378</td>\n",
       "      <td>0.197679</td>\n",
       "      <td>-0.129872</td>\n",
       "      <td>0.128854</td>\n",
       "      <td>0.026448</td>\n",
       "      <td>-0.009016</td>\n",
       "      <td>NaN</td>\n",
       "      <td>0.119914</td>\n",
       "      <td>-0.151209</td>\n",
       "      <td>0.103485</td>\n",
       "      <td>-0.007251</td>\n",
       "      <td>0.000805</td>\n",
       "    </tr>\n",
       "    <tr>\n",
       "      <th>Y</th>\n",
       "      <td>0.061378</td>\n",
       "      <td>1.000000</td>\n",
       "      <td>0.019268</td>\n",
       "      <td>-0.046627</td>\n",
       "      <td>-0.066294</td>\n",
       "      <td>-0.079620</td>\n",
       "      <td>-0.024973</td>\n",
       "      <td>NaN</td>\n",
       "      <td>-0.073949</td>\n",
       "      <td>0.051225</td>\n",
       "      <td>0.152310</td>\n",
       "      <td>-0.035591</td>\n",
       "      <td>-0.002863</td>\n",
       "    </tr>\n",
       "    <tr>\n",
       "      <th>Z</th>\n",
       "      <td>0.197679</td>\n",
       "      <td>0.019268</td>\n",
       "      <td>1.000000</td>\n",
       "      <td>-0.100985</td>\n",
       "      <td>-0.104408</td>\n",
       "      <td>-0.031794</td>\n",
       "      <td>-0.058929</td>\n",
       "      <td>NaN</td>\n",
       "      <td>-0.047601</td>\n",
       "      <td>-0.029365</td>\n",
       "      <td>0.067984</td>\n",
       "      <td>0.021446</td>\n",
       "      <td>0.001843</td>\n",
       "    </tr>\n",
       "    <tr>\n",
       "      <th>EDA</th>\n",
       "      <td>-0.129872</td>\n",
       "      <td>-0.046627</td>\n",
       "      <td>-0.100985</td>\n",
       "      <td>1.000000</td>\n",
       "      <td>0.129322</td>\n",
       "      <td>0.438951</td>\n",
       "      <td>0.120275</td>\n",
       "      <td>NaN</td>\n",
       "      <td>-0.058150</td>\n",
       "      <td>0.100780</td>\n",
       "      <td>-0.156836</td>\n",
       "      <td>0.005161</td>\n",
       "      <td>0.001351</td>\n",
       "    </tr>\n",
       "    <tr>\n",
       "      <th>HR</th>\n",
       "      <td>0.128854</td>\n",
       "      <td>-0.066294</td>\n",
       "      <td>-0.104408</td>\n",
       "      <td>0.129322</td>\n",
       "      <td>1.000000</td>\n",
       "      <td>0.156965</td>\n",
       "      <td>-0.030715</td>\n",
       "      <td>NaN</td>\n",
       "      <td>0.031191</td>\n",
       "      <td>0.084767</td>\n",
       "      <td>-0.055244</td>\n",
       "      <td>-0.005187</td>\n",
       "      <td>-0.002012</td>\n",
       "    </tr>\n",
       "    <tr>\n",
       "      <th>TEMP</th>\n",
       "      <td>0.026448</td>\n",
       "      <td>-0.079620</td>\n",
       "      <td>-0.031794</td>\n",
       "      <td>0.438951</td>\n",
       "      <td>0.156965</td>\n",
       "      <td>1.000000</td>\n",
       "      <td>0.138786</td>\n",
       "      <td>NaN</td>\n",
       "      <td>0.184846</td>\n",
       "      <td>-0.114935</td>\n",
       "      <td>-0.248080</td>\n",
       "      <td>-0.002608</td>\n",
       "      <td>-0.000081</td>\n",
       "    </tr>\n",
       "    <tr>\n",
       "      <th>label</th>\n",
       "      <td>-0.009016</td>\n",
       "      <td>-0.024973</td>\n",
       "      <td>-0.058929</td>\n",
       "      <td>0.120275</td>\n",
       "      <td>-0.030715</td>\n",
       "      <td>0.138786</td>\n",
       "      <td>1.000000</td>\n",
       "      <td>NaN</td>\n",
       "      <td>0.149444</td>\n",
       "      <td>-0.075774</td>\n",
       "      <td>-0.261795</td>\n",
       "      <td>-0.021705</td>\n",
       "      <td>-0.000268</td>\n",
       "    </tr>\n",
       "    <tr>\n",
       "      <th>year</th>\n",
       "      <td>NaN</td>\n",
       "      <td>NaN</td>\n",
       "      <td>NaN</td>\n",
       "      <td>NaN</td>\n",
       "      <td>NaN</td>\n",
       "      <td>NaN</td>\n",
       "      <td>NaN</td>\n",
       "      <td>NaN</td>\n",
       "      <td>NaN</td>\n",
       "      <td>NaN</td>\n",
       "      <td>NaN</td>\n",
       "      <td>NaN</td>\n",
       "      <td>NaN</td>\n",
       "    </tr>\n",
       "    <tr>\n",
       "      <th>month</th>\n",
       "      <td>0.119914</td>\n",
       "      <td>-0.073949</td>\n",
       "      <td>-0.047601</td>\n",
       "      <td>-0.058150</td>\n",
       "      <td>0.031191</td>\n",
       "      <td>0.184846</td>\n",
       "      <td>0.149444</td>\n",
       "      <td>NaN</td>\n",
       "      <td>1.000000</td>\n",
       "      <td>-0.453226</td>\n",
       "      <td>-0.599414</td>\n",
       "      <td>-0.006220</td>\n",
       "      <td>-0.000212</td>\n",
       "    </tr>\n",
       "    <tr>\n",
       "      <th>day</th>\n",
       "      <td>-0.151209</td>\n",
       "      <td>0.051225</td>\n",
       "      <td>-0.029365</td>\n",
       "      <td>0.100780</td>\n",
       "      <td>0.084767</td>\n",
       "      <td>-0.114935</td>\n",
       "      <td>-0.075774</td>\n",
       "      <td>NaN</td>\n",
       "      <td>-0.453226</td>\n",
       "      <td>1.000000</td>\n",
       "      <td>0.155616</td>\n",
       "      <td>0.034031</td>\n",
       "      <td>0.000237</td>\n",
       "    </tr>\n",
       "    <tr>\n",
       "      <th>hour</th>\n",
       "      <td>0.103485</td>\n",
       "      <td>0.152310</td>\n",
       "      <td>0.067984</td>\n",
       "      <td>-0.156836</td>\n",
       "      <td>-0.055244</td>\n",
       "      <td>-0.248080</td>\n",
       "      <td>-0.261795</td>\n",
       "      <td>NaN</td>\n",
       "      <td>-0.599414</td>\n",
       "      <td>0.155616</td>\n",
       "      <td>1.000000</td>\n",
       "      <td>-0.048921</td>\n",
       "      <td>0.000174</td>\n",
       "    </tr>\n",
       "    <tr>\n",
       "      <th>minute</th>\n",
       "      <td>-0.007251</td>\n",
       "      <td>-0.035591</td>\n",
       "      <td>0.021446</td>\n",
       "      <td>0.005161</td>\n",
       "      <td>-0.005187</td>\n",
       "      <td>-0.002608</td>\n",
       "      <td>-0.021705</td>\n",
       "      <td>NaN</td>\n",
       "      <td>-0.006220</td>\n",
       "      <td>0.034031</td>\n",
       "      <td>-0.048921</td>\n",
       "      <td>1.000000</td>\n",
       "      <td>-0.000124</td>\n",
       "    </tr>\n",
       "    <tr>\n",
       "      <th>second</th>\n",
       "      <td>0.000805</td>\n",
       "      <td>-0.002863</td>\n",
       "      <td>0.001843</td>\n",
       "      <td>0.001351</td>\n",
       "      <td>-0.002012</td>\n",
       "      <td>-0.000081</td>\n",
       "      <td>-0.000268</td>\n",
       "      <td>NaN</td>\n",
       "      <td>-0.000212</td>\n",
       "      <td>0.000237</td>\n",
       "      <td>0.000174</td>\n",
       "      <td>-0.000124</td>\n",
       "      <td>1.000000</td>\n",
       "    </tr>\n",
       "  </tbody>\n",
       "</table>\n",
       "</div>"
      ],
      "text/plain": [
       "               X         Y         Z       EDA        HR      TEMP     label  \\\n",
       "X       1.000000  0.061378  0.197679 -0.129872  0.128854  0.026448 -0.009016   \n",
       "Y       0.061378  1.000000  0.019268 -0.046627 -0.066294 -0.079620 -0.024973   \n",
       "Z       0.197679  0.019268  1.000000 -0.100985 -0.104408 -0.031794 -0.058929   \n",
       "EDA    -0.129872 -0.046627 -0.100985  1.000000  0.129322  0.438951  0.120275   \n",
       "HR      0.128854 -0.066294 -0.104408  0.129322  1.000000  0.156965 -0.030715   \n",
       "TEMP    0.026448 -0.079620 -0.031794  0.438951  0.156965  1.000000  0.138786   \n",
       "label  -0.009016 -0.024973 -0.058929  0.120275 -0.030715  0.138786  1.000000   \n",
       "year         NaN       NaN       NaN       NaN       NaN       NaN       NaN   \n",
       "month   0.119914 -0.073949 -0.047601 -0.058150  0.031191  0.184846  0.149444   \n",
       "day    -0.151209  0.051225 -0.029365  0.100780  0.084767 -0.114935 -0.075774   \n",
       "hour    0.103485  0.152310  0.067984 -0.156836 -0.055244 -0.248080 -0.261795   \n",
       "minute -0.007251 -0.035591  0.021446  0.005161 -0.005187 -0.002608 -0.021705   \n",
       "second  0.000805 -0.002863  0.001843  0.001351 -0.002012 -0.000081 -0.000268   \n",
       "\n",
       "        year     month       day      hour    minute    second  \n",
       "X        NaN  0.119914 -0.151209  0.103485 -0.007251  0.000805  \n",
       "Y        NaN -0.073949  0.051225  0.152310 -0.035591 -0.002863  \n",
       "Z        NaN -0.047601 -0.029365  0.067984  0.021446  0.001843  \n",
       "EDA      NaN -0.058150  0.100780 -0.156836  0.005161  0.001351  \n",
       "HR       NaN  0.031191  0.084767 -0.055244 -0.005187 -0.002012  \n",
       "TEMP     NaN  0.184846 -0.114935 -0.248080 -0.002608 -0.000081  \n",
       "label    NaN  0.149444 -0.075774 -0.261795 -0.021705 -0.000268  \n",
       "year     NaN       NaN       NaN       NaN       NaN       NaN  \n",
       "month    NaN  1.000000 -0.453226 -0.599414 -0.006220 -0.000212  \n",
       "day      NaN -0.453226  1.000000  0.155616  0.034031  0.000237  \n",
       "hour     NaN -0.599414  0.155616  1.000000 -0.048921  0.000174  \n",
       "minute   NaN -0.006220  0.034031 -0.048921  1.000000 -0.000124  \n",
       "second   NaN -0.000212  0.000237  0.000174 -0.000124  1.000000  "
      ]
     },
     "execution_count": 47,
     "metadata": {},
     "output_type": "execute_result"
    }
   ],
   "source": [
    "data.drop([\"datetime\"], axis=1).corr()"
   ]
  },
  {
   "cell_type": "code",
   "execution_count": 48,
   "id": "1a9168f7",
   "metadata": {},
   "outputs": [
    {
     "data": {
      "text/html": [
       "<div>\n",
       "<style scoped>\n",
       "    .dataframe tbody tr th:only-of-type {\n",
       "        vertical-align: middle;\n",
       "    }\n",
       "\n",
       "    .dataframe tbody tr th {\n",
       "        vertical-align: top;\n",
       "    }\n",
       "\n",
       "    .dataframe thead th {\n",
       "        text-align: right;\n",
       "    }\n",
       "</style>\n",
       "<table border=\"1\" class=\"dataframe\">\n",
       "  <thead>\n",
       "    <tr style=\"text-align: right;\">\n",
       "      <th></th>\n",
       "      <th>X</th>\n",
       "      <th>Y</th>\n",
       "      <th>Z</th>\n",
       "      <th>EDA</th>\n",
       "      <th>HR</th>\n",
       "      <th>TEMP</th>\n",
       "      <th>label</th>\n",
       "      <th>month</th>\n",
       "      <th>time_of_day</th>\n",
       "    </tr>\n",
       "  </thead>\n",
       "  <tbody>\n",
       "    <tr>\n",
       "      <th>0</th>\n",
       "      <td>0.486794</td>\n",
       "      <td>-1.799286</td>\n",
       "      <td>-0.634187</td>\n",
       "      <td>2.626008</td>\n",
       "      <td>0.960611</td>\n",
       "      <td>-0.477628</td>\n",
       "      <td>2.0</td>\n",
       "      <td>7</td>\n",
       "      <td>14.05</td>\n",
       "    </tr>\n",
       "    <tr>\n",
       "      <th>1</th>\n",
       "      <td>0.263960</td>\n",
       "      <td>-2.039581</td>\n",
       "      <td>-0.902006</td>\n",
       "      <td>2.626008</td>\n",
       "      <td>0.960611</td>\n",
       "      <td>-0.477628</td>\n",
       "      <td>2.0</td>\n",
       "      <td>7</td>\n",
       "      <td>14.05</td>\n",
       "    </tr>\n",
       "    <tr>\n",
       "      <th>2</th>\n",
       "      <td>-0.086207</td>\n",
       "      <td>-2.309914</td>\n",
       "      <td>-1.303733</td>\n",
       "      <td>2.626008</td>\n",
       "      <td>0.960611</td>\n",
       "      <td>-0.477628</td>\n",
       "      <td>2.0</td>\n",
       "      <td>7</td>\n",
       "      <td>14.05</td>\n",
       "    </tr>\n",
       "    <tr>\n",
       "      <th>3</th>\n",
       "      <td>-0.595541</td>\n",
       "      <td>-1.919434</td>\n",
       "      <td>-2.073711</td>\n",
       "      <td>2.626008</td>\n",
       "      <td>0.960611</td>\n",
       "      <td>-0.477628</td>\n",
       "      <td>2.0</td>\n",
       "      <td>7</td>\n",
       "      <td>14.05</td>\n",
       "    </tr>\n",
       "    <tr>\n",
       "      <th>4</th>\n",
       "      <td>-1.232208</td>\n",
       "      <td>-1.679138</td>\n",
       "      <td>-2.575870</td>\n",
       "      <td>2.626008</td>\n",
       "      <td>0.960611</td>\n",
       "      <td>-0.477628</td>\n",
       "      <td>2.0</td>\n",
       "      <td>7</td>\n",
       "      <td>14.05</td>\n",
       "    </tr>\n",
       "  </tbody>\n",
       "</table>\n",
       "</div>"
      ],
      "text/plain": [
       "          X         Y         Z       EDA        HR      TEMP  label  month  \\\n",
       "0  0.486794 -1.799286 -0.634187  2.626008  0.960611 -0.477628    2.0      7   \n",
       "1  0.263960 -2.039581 -0.902006  2.626008  0.960611 -0.477628    2.0      7   \n",
       "2 -0.086207 -2.309914 -1.303733  2.626008  0.960611 -0.477628    2.0      7   \n",
       "3 -0.595541 -1.919434 -2.073711  2.626008  0.960611 -0.477628    2.0      7   \n",
       "4 -1.232208 -1.679138 -2.575870  2.626008  0.960611 -0.477628    2.0      7   \n",
       "\n",
       "   time_of_day  \n",
       "0        14.05  \n",
       "1        14.05  \n",
       "2        14.05  \n",
       "3        14.05  \n",
       "4        14.05  "
      ]
     },
     "execution_count": 48,
     "metadata": {},
     "output_type": "execute_result"
    }
   ],
   "source": [
    "data['time_of_day'] = data['datetime'].dt.hour + data['datetime'].dt.minute/60 + data['datetime'].dt.second/3600\n",
    "data.drop([\"datetime\", \"hour\", 'year', 'day', 'minute', 'second'], axis=1, inplace=True)\n",
    "data.head()"
   ]
  },
  {
   "cell_type": "markdown",
   "id": "34dfc209",
   "metadata": {},
   "source": [
    "##### EDA and TEMP are moderately correlated with Label"
   ]
  },
  {
   "cell_type": "code",
   "execution_count": 49,
   "id": "edef1670",
   "metadata": {},
   "outputs": [
    {
     "name": "stdout",
     "output_type": "stream",
     "text": [
      "The number of selected features: 6\n",
      "(11403445, 6)\n"
     ]
    }
   ],
   "source": [
    "from sklearn.feature_selection import VarianceThreshold\n",
    "\n",
    "X = data.iloc[:, list(range(0, 6))]\n",
    "selector = VarianceThreshold(threshold=0.0)\n",
    "X_selected = selector.fit_transform(X)\n",
    "print(\"The number of selected features:\", X_selected.shape[1])\n",
    "print(X_selected.shape)"
   ]
  },
  {
   "cell_type": "code",
   "execution_count": 51,
   "id": "3de71b28",
   "metadata": {},
   "outputs": [
    {
     "name": "stdout",
     "output_type": "stream",
     "text": [
      "Number of features after dimensionality reduction: 5\n",
      "[[ 2.1331  0.1242  0.9651 -0.8811  0.0698]\n",
      " [ 2.2829 -0.1935  1.1599 -0.9975  0.1248]\n",
      " [ 2.4924 -0.6761  1.411  -1.0961  0.1851]\n",
      " ...\n",
      " [ 1.1966  0.2179  0.001  -0.9215  0.0842]\n",
      " [ 1.1425  0.2418 -0.1246 -0.7719 -0.0013]\n",
      " [ 1.0789  0.3988 -0.1412 -0.6066  0.1206]]\n"
     ]
    }
   ],
   "source": [
    "#PCA\n",
    "from sklearn.decomposition import PCA\n",
    "\n",
    "X = data.iloc[:, list(range(0, 6))]\n",
    "scaler = StandardScaler()\n",
    "X_scaled = scaler.fit_transform(X)\n",
    "pca = PCA(n_components=0.90)\n",
    "X_pca = pca.fit_transform(X_scaled)\n",
    "\n",
    "np.set_printoptions(suppress=True, precision=4)\n",
    "\n",
    "print(\"Number of features after dimensionality reduction:\", X_pca.shape[1])\n",
    "print(X_pca)"
   ]
  },
  {
   "cell_type": "markdown",
   "id": "5e003a90",
   "metadata": {},
   "source": [
    "# Model"
   ]
  },
  {
   "cell_type": "code",
   "execution_count": 56,
   "id": "f58b92d9",
   "metadata": {},
   "outputs": [],
   "source": [
    "from sklearn.metrics import accuracy_score, classification_report\n",
    "from sklearn.preprocessing import StandardScaler\n",
    "from sklearn.naive_bayes import GaussianNB\n",
    "from sklearn.pipeline import Pipeline\n",
    "from sklearn.ensemble import RandomForestClassifier\n",
    "from sklearn.preprocessing import MinMaxScaler\n",
    "from tensorflow.keras.models import Sequential\n",
    "from tensorflow.keras.layers import LSTM, Dense, Dropout\n",
    "from tensorflow.keras.utils import to_categorical\n",
    "from tensorflow.keras.callbacks import Callback\n",
    "from sklearn.model_selection import train_test_split, GridSearchCV, StratifiedKFold\n",
    "from xgboost import XGBClassifier\n",
    "from lightgbm import LGBMClassifier"
   ]
  },
  {
   "cell_type": "markdown",
   "id": "d4214f9a",
   "metadata": {},
   "source": [
    "### Naive Bayes"
   ]
  },
  {
   "cell_type": "code",
   "execution_count": 64,
   "id": "917d6c51",
   "metadata": {},
   "outputs": [
    {
     "name": "stdout",
     "output_type": "stream",
     "text": [
      "Accuracy: 0.7000647611313949\n",
      "Classification Report:\n",
      "               precision    recall  f1-score   support\n",
      "\n",
      "         0.0       0.37      0.44      0.40    432579\n",
      "         1.0       0.34      0.14      0.20    154433\n",
      "         2.0       0.81      0.82      0.81   1693677\n",
      "\n",
      "    accuracy                           0.70   2280689\n",
      "   macro avg       0.51      0.47      0.47   2280689\n",
      "weighted avg       0.70      0.70      0.69   2280689\n",
      "\n"
     ]
    }
   ],
   "source": [
    "selected_features = ['X', 'Y', 'Z', 'EDA', 'HR', 'TEMP', 'month', 'time_of_day']\n",
    "X = data[selected_features]\n",
    "y = data['label']\n",
    "\n",
    "pipeline = Pipeline([\n",
    "    ('scaler', StandardScaler()),\n",
    "    ('classifier', GaussianNB())\n",
    "])\n",
    "\n",
    "X_train, X_test, y_train, y_test = train_test_split(X, y, test_size=0.2, random_state=42)\n",
    "\n",
    "pipeline.fit(X_train, y_train)\n",
    "\n",
    "y_pred = pipeline.predict(X_test)\n",
    "\n",
    "print(\"Accuracy:\", accuracy_score(y_test, y_pred))\n",
    "print(\"Classification Report:\\n\", classification_report(y_test, y_pred))"
   ]
  },
  {
   "cell_type": "markdown",
   "id": "9d20785b",
   "metadata": {},
   "source": [
    "### Decision Tree"
   ]
  },
  {
   "cell_type": "code",
   "execution_count": 65,
   "id": "cd2d2501",
   "metadata": {},
   "outputs": [
    {
     "name": "stdout",
     "output_type": "stream",
     "text": [
      "Decision Tree Model Accuracy: 0.9999394919693128\n",
      "Classification Report:\n",
      "               precision    recall  f1-score   support\n",
      "\n",
      "         0.0       1.00      1.00      1.00    432579\n",
      "         1.0       1.00      1.00      1.00    154433\n",
      "         2.0       1.00      1.00      1.00   1693677\n",
      "\n",
      "    accuracy                           1.00   2280689\n",
      "   macro avg       1.00      1.00      1.00   2280689\n",
      "weighted avg       1.00      1.00      1.00   2280689\n",
      "\n"
     ]
    }
   ],
   "source": [
    "from sklearn.tree import DecisionTreeClassifier\n",
    "from sklearn.metrics import accuracy_score, classification_report\n",
    "\n",
    "selected_features = ['X', 'Y', 'Z', 'EDA', 'HR', 'TEMP', 'month', 'time_of_day']\n",
    "X = data[selected_features]\n",
    "y = data['label']\n",
    "\n",
    "scaler = StandardScaler()\n",
    "X_scaled = scaler.fit_transform(X)\n",
    "\n",
    "X_train, X_test, y_train, y_test = train_test_split(X_scaled, y, test_size=0.2, random_state=42)\n",
    "\n",
    "dt_model = DecisionTreeClassifier(random_state=42)\n",
    "dt_model.fit(X_train, y_train)\n",
    "\n",
    "y_pred = dt_model.predict(X_test)\n",
    "\n",
    "print(\"Decision Tree Model Accuracy:\", accuracy_score(y_test, y_pred))\n",
    "print(\"Classification Report:\\n\", classification_report(y_test, y_pred))"
   ]
  },
  {
   "cell_type": "markdown",
   "id": "30b1865b",
   "metadata": {},
   "source": [
    "### Random Forest"
   ]
  },
  {
   "cell_type": "code",
   "execution_count": 66,
   "id": "17a014be",
   "metadata": {},
   "outputs": [],
   "source": [
    "selected_features = ['X', 'Y', 'Z', 'EDA', 'HR', 'TEMP', 'month', 'time_of_day']\n",
    "X = data[selected_features]\n",
    "y = data['label']\n",
    "\n",
    "scaler = StandardScaler()\n",
    "X_scaled = scaler.fit_transform(X)\n",
    "\n",
    "X_train, X_test, y_train, y_test = train_test_split(X_scaled, y, test_size=0.2, random_state=42)\n",
    "\n",
    "subset_size = 0.01\n",
    "X_subset, _, y_subset, _ = train_test_split(X_train, y_train, test_size=1-subset_size, random_state=42)\n",
    "\n",
    "rf = RandomForestClassifier(n_estimators=10, random_state=42)\n",
    "\n",
    "cv = StratifiedKFold(n_splits=2, shuffle=True, random_state=42)\n",
    "\n",
    "params = {\n",
    "    'max_depth': [None, 5],\n",
    "    'min_samples_split': [2, 10],\n",
    "    'min_samples_leaf': [1, 5]\n",
    "}\n",
    "\n",
    "\n",
    "grid_search = GridSearchCV(rf, param_grid=params, cv=cv, scoring='accuracy', n_jobs=-1, verbose=1)\n",
    "grid_search.fit(X_subset, y_subset)\n",
    "\n",
    "best_params = grid_search.best_params_\n",
    "best_params['n_estimators'] = 50\n",
    "\n",
    "rf_best_subset = RandomForestClassifier(**best_params, random_state=42)\n",
    "rf_best_subset.fit(X_subset, y_subset)\n",
    "\n",
    "y_pred_subset = rf_best_subset.predict(X_test)\n",
    "\n",
    "print(\"Subset Training Results:\")\n",
    "print(\"Best Parameters:\", best_params)\n",
    "print(\"Accuracy:\", accuracy_score(y_test, y_pred_subset))\n",
    "print(\"Classification Report:\\n\", classification_report(y_test, y_pred_subset))"
   ]
  },
  {
   "cell_type": "code",
   "execution_count": null,
   "id": "2bd8f0bd",
   "metadata": {},
   "outputs": [],
   "source": [
    "rf_best_full = RandomForestClassifier(**best_params, random_state=42)\n",
    "rf_best_full.fit(X_train, y_train)\n",
    "\n",
    "y_pred_full = rf_best_full.predict(X_test)\n",
    "\n",
    "print(\"Full Dataset Training Results:\")\n",
    "print(\"Best Parameters:\", best_params)\n",
    "print(\"Accuracy:\", accuracy_score(y_test, y_pred_full))\n",
    "print(\"Classification Report:\\n\", classification_report(y_test, y_pred_full))"
   ]
  },
  {
   "cell_type": "markdown",
   "id": "bfd72184",
   "metadata": {},
   "source": [
    "### #XGboost&lightgbm"
   ]
  },
  {
   "cell_type": "code",
   "execution_count": null,
   "id": "1a6f4dcc",
   "metadata": {},
   "outputs": [],
   "source": [
    "selected_features = ['X', 'Y', 'Z', 'EDA', 'HR', 'TEMP', 'month', 'time_of_day']\n",
    "X = data[selected_features]\n",
    "y = data['label']\n",
    "\n",
    "y = np.where(y == 2, 1, y)\n",
    "\n",
    "X_train, X_test, y_train, y_test = train_test_split(X, y, test_size=0.2, random_state=42, stratify=y)\n",
    "\n",
    "lgb = LGBMClassifier(objective='binary', random_state=42, is_unbalance=True)\n",
    "xgb = XGBClassifier(objective='binary:logistic', random_state=42, scale_pos_weight=sum(y_train == 0) / sum(y_train == 1))\n",
    "\n",
    "lgb_params = {\n",
    "    'learning_rate': [0.1],\n",
    "    'n_estimators': [50],\n",
    "    'max_depth': [3],\n",
    "    'subsample': [1.0],\n",
    "    'colsample_bytree': [1.0]\n",
    "}\n",
    "\n",
    "xgb_params = {\n",
    "    'learning_rate': [0.1],\n",
    "    'n_estimators': [50],\n",
    "    'max_depth': [3],\n",
    "    'subsample': [1.0],\n",
    "    'colsample_bytree': [1.0]\n",
    "}\n",
    "\n",
    "cv = StratifiedKFold(n_splits=3, shuffle=True, random_state=42)\n",
    "\n",
    "lgb_grid = GridSearchCV(lgb, lgb_params, cv=cv, scoring='f1', n_jobs=-1, verbose=1)\n",
    "xgb_grid = GridSearchCV(xgb, xgb_params, cv=cv, scoring='f1', n_jobs=-1, verbose=1)\n",
    "\n",
    "lgb_grid.fit(X_train, y_train)\n",
    "xgb_grid.fit(X_train, y_train)\n",
    "\n",
    "y_pred_lgb = lgb_grid.best_estimator_.predict(X_test)\n",
    "y_pred_xgb = xgb_grid.best_estimator_.predict(X_test)\n",
    "\n",
    "print(\"LightGBM:\")\n",
    "print(\"Best parameters: \", lgb_grid.best_params_)\n",
    "print(\"Accuracy: \", accuracy_score(y_test, y_pred_lgb))\n",
    "print(\"Precision: \", precision_score(y_test, y_pred_lgb))\n",
    "print(\"Recall: \", recall_score(y_test, y_pred_lgb))\n",
    "print(\"F1: \", f1_score(y_test, y_pred_lgb))\n",
    "\n",
    "print(\"XGBoost:\")\n",
    "print(\"Best parameters: \", xgb_grid.best_params_)\n",
    "print(\"Accuracy: \", accuracy_score(y_test, y_pred_xgb))\n",
    "print(\"Precision: \", precision_score(y_test, y_pred_xgb))\n",
    "print(\"Recall: \", recall_score(y_test, y_pred_xgb))\n",
    "print(\"F1: \", f1_score(y_test, y_pred_xgb))"
   ]
  },
  {
   "cell_type": "markdown",
   "id": "65654fdd",
   "metadata": {},
   "source": [
    "### Long-short term Model"
   ]
  },
  {
   "cell_type": "code",
   "execution_count": null,
   "id": "cd04a3a3",
   "metadata": {},
   "outputs": [],
   "source": [
    "class AccuracyThresholdCallback(Callback):\n",
    "    def __init__(self, threshold=0.9995):\n",
    "        super(AccuracyThresholdCallback, self).__init__()\n",
    "        self.threshold = threshold\n",
    "\n",
    "    def on_epoch_end(self, epoch, logs=None):\n",
    "        val_acc = logs.get('val_accuracy')\n",
    "        if val_acc >= self.threshold:\n",
    "            self.model.stop_training = True\n",
    "\n",
    "\n",
    "features = data[['X', 'Y', 'Z', 'EDA', 'HR', 'TEMP', 'month', 'time_of_day']].values\n",
    "target = data['label'].values\n",
    "\n",
    "scaler = MinMaxScaler(feature_range=(0, 1))\n",
    "scaled_features = scaler.fit_transform(features)\n",
    "\n",
    "target_categorical = to_categorical(target)\n",
    "\n",
    "\n",
    "X_train, X_test, y_train, y_test = train_test_split(scaled_features, target_categorical, test_size=0.2, random_state=42)\n",
    "\n",
    "\n",
    "X_train = X_train.reshape((X_train.shape[0], 1, X_train.shape[1]))\n",
    "X_test = X_test.reshape((X_test.shape[0], 1, X_test.shape[1]))\n",
    "\n",
    "model = Sequential()\n",
    "model.add(LSTM(32, input_shape=(X_train.shape[1], X_train.shape[2])))  # Reduced number of units\n",
    "model.add(Dropout(0.2))\n",
    "model.add(Dense(y_train.shape[1], activation='softmax'))  # Output layer with softmax activation\n",
    "\n",
    "# Compile the model\n",
    "model.compile(loss='categorical_crossentropy', optimizer='adam', metrics=['accuracy'])\n",
    "\n",
    "# Summarize the model\n",
    "model.summary()\n",
    "\n",
    "# Create an instance of the custom callback\n",
    "accuracy_threshold_callback = AccuracyThresholdCallback(threshold=0.9995)\n",
    "\n",
    "# Fit the model with reduced epochs and increased batch size\n",
    "history = model.fit(X_train, y_train, epochs=20, batch_size=128, validation_data=(X_test, y_test),\n",
    "                    callbacks=[accuracy_threshold_callback], verbose=2, shuffle=False)\n",
    "\n",
    "# Evaluate the model\n",
    "scores = model.evaluate(X_test, y_test, verbose=0)\n",
    "print(\"Accuracy: %.2f%%\" % (scores[1] * 100))"
   ]
  }
 ],
 "metadata": {
  "kernelspec": {
   "display_name": "Project",
   "language": "python",
   "name": "python3"
  },
  "language_info": {
   "codemirror_mode": {
    "name": "ipython",
    "version": 3
   },
   "file_extension": ".py",
   "mimetype": "text/x-python",
   "name": "python",
   "nbconvert_exporter": "python",
   "pygments_lexer": "ipython3",
   "version": "3.11.7"
  }
 },
 "nbformat": 4,
 "nbformat_minor": 5
}
